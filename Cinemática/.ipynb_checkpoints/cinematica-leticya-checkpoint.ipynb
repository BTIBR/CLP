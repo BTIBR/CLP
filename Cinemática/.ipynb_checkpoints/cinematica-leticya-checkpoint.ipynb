{
 "cells": [
  {
   "cell_type": "markdown",
   "metadata": {},
   "source": [
    "# Cinemática Braço Robtótico Leticya\n",
    "\n",
    "### Bancada de Testes de Pré-Carga de Fusos de Esfera Integrada com Braço Robótico\n",
    "\n",
    "### Referências\n",
    "- https://www.youtube.com/watch?v=4WRhVqQaZTE\n",
    "- https://robotics.stackexchange.com/questions/8516/getting-pitch-yaw-and-roll-from-rotation-matrix-in-dh-parameter\n",
    "- https://automaticaddison.com/how-to-assign-denavit-hartenberg-frames-to-robotic-arms/\n",
    "\n",
    "\n",
    "## Cinemática Direta por Denavit Hartenberg "
   ]
  },
  {
   "cell_type": "code",
   "execution_count": 1,
   "metadata": {},
   "outputs": [],
   "source": [
    "import mpmath\n",
    "import numpy as np\n",
    "import sympy as sym\n",
    "\n",
    "# Distâncias entre os Sistemas do diagrama\n",
    "d1 = 190.0\n",
    "d2 = 208.88\n",
    "d3 = 203.56\n",
    "d4 = 180.66\n",
    "d5 = 593.1\n",
    "\n",
    "# Criando simbologia para inserir as rotações atuais dos motores\n",
    "M1 = sym.Symbol('_M1')\n",
    "M2 = sym.Symbol('_M2')\n",
    "M3 = sym.Symbol('_M3')\n",
    "\n",
    "# Função de cálculo da matriz de Denavit-Hartenberg\n",
    "def H(theta, alpha, r, d):\n",
    "    return sym.Matrix([\n",
    "        [sym.cos(theta), -sym.sin(theta)*sym.cos(alpha),  sym.sin(theta)*sym.sin(alpha), r*sym.cos(theta)],\n",
    "        [sym.sin(theta),  sym.cos(theta)*sym.cos(alpha), -sym.cos(theta)*sym.sin(alpha), r*sym.sin(theta)],\n",
    "        [0,               sym.sin(alpha),                 sym.cos(alpha),                d],\n",
    "        [0,               0,                              0,                             1]])\n",
    "\n",
    "# Criação da Matriz T para calcular as translações\n",
    "T = (H(sym.pi/2     , 0         , -d5 , 0   )*\n",
    "     H(-sym.pi/2    , 0         , 0   , -d1 )*\n",
    "     H(sym.pi/2 + M1, -sym.pi/2 , 0   , d1  )*\n",
    "     H(sym.pi + M2  , 0         , -d2 , 0   )*\n",
    "     H(M3           , 0         , -d3 , 0   )*\n",
    "     H(sym.pi - M3  , sym.pi/2  , d4  , 0   )*\n",
    "     H(-sym.pi/2    , 0         , 0   , 0   ))\n",
    "\n",
    "# Cálculo da referência da ponta da Garra ao ponto Zero para extrair as translações\n",
    "XYZ = T*sym.Matrix([[0], [0], [0], [1]])\n",
    "Tx  = sym.simplify(XYZ[0])\n",
    "Ty  = sym.simplify(XYZ[1])\n",
    "Tz  = sym.simplify(XYZ[2])\n",
    "Rz  = M1"
   ]
  },
  {
   "cell_type": "markdown",
   "metadata": {},
   "source": [
    "# Simulação de Funcionamento da Cinemática Direta"
   ]
  },
  {
   "cell_type": "code",
   "execution_count": 2,
   "metadata": {
    "scrolled": true
   },
   "outputs": [
    {
     "name": "stdout",
     "output_type": "stream",
     "text": [
      "\n",
      "Cinemática Direta\n",
      "  Tx: 102.99\n",
      "  Ty: -9.01\n",
      "  Tz: 0.00\n",
      "  Rz: -10.00\n"
     ]
    }
   ],
   "source": [
    "def kin_for(m1, m2, m3):\n",
    "    # Conversão para radianos para uso na simulação\n",
    "    M1_rad = mpmath.radians(m1)\n",
    "    M2_rad = mpmath.radians(m2)\n",
    "    M3_rad = mpmath.radians(m3)\n",
    "    # Execução dos cálculos\n",
    "    Tx_newton = sym.N(Tx.subs([(M1, M1_rad), (M2, M2_rad), (M3, M3_rad)]))\n",
    "    Ty_newton = sym.N(Ty.subs([(M1, M1_rad), (M2, M2_rad), (M3, M3_rad)]))\n",
    "    Tz_newton = sym.N(Tz.subs([(M1, M1_rad), (M2, M2_rad), (M3, M3_rad)]))\n",
    "    Rz_newton = sym.N(Rz.subs([(M1, m1)]))\n",
    "    # Print das translações calculadas\n",
    "    print()\n",
    "    print('Cinemática Direta')\n",
    "    print('  Tx: %.2f' % (Tx_newton))\n",
    "    print('  Ty: %.2f' % (Ty_newton))\n",
    "    print('  Tz: %.2f' % (Tz_newton))\n",
    "    print('  Rz: %.2f' % (m1))\n",
    "\n",
    "kin_for(-10, 0, 0)"
   ]
  },
  {
   "cell_type": "markdown",
   "metadata": {},
   "source": [
    "## Print Cinemática Direta para o código no Arduino (C++)"
   ]
  },
  {
   "cell_type": "code",
   "execution_count": 3,
   "metadata": {
    "scrolled": false
   },
   "outputs": [
    {
     "name": "stdout",
     "output_type": "stream",
     "text": [
      "Tx = -(389.53999999999996*cos(_M2) + 203.56*cos(_M2 + _M3))*sin(_M1);\n",
      "\n",
      "Ty = 389.54000000000002*cos(_M1)*cos(_M2) + 203.56*cos(_M1)*cos(_M2 + _M3) - 593.10000000000002;\n",
      "\n",
      "Tz = -389.53999999999996*sin(_M2) - 203.56*sin(_M2 + _M3);\n",
      "\n",
      "Rz = _M1;\n",
      "\n"
     ]
    }
   ],
   "source": [
    "print('Tx = ' + str(sym.ccode(Tx)) + ';')\n",
    "print()\n",
    "print('Ty = ' + str(sym.ccode(Ty)) + ';')\n",
    "print()\n",
    "print('Tz = ' + str(sym.ccode(Tz)) + ';')\n",
    "print()\n",
    "print('Rz = ' + str(sym.ccode(Rz)) + ';')\n",
    "print()"
   ]
  },
  {
   "cell_type": "markdown",
   "metadata": {},
   "source": [
    "## Cinemática Inversa pelo Método de Newton\n",
    "Foi utilizado o Método de Newton para encontrar a cinemática inversa. As equações foram definidas descrevendo os eixos como:\n",
    "\n",
    "\\begin{equation}\n",
    "F=G(e)=\n",
    "\\begin{bmatrix}\n",
    "G_1(e) \\\\\n",
    "G_2(e) \\\\\n",
    "G_3(e) \\\\\n",
    "G_4(e) \\\\\n",
    "G_5(e) \\\\\n",
    "G_6(e)\n",
    "\\end{bmatrix}\n",
    "=\n",
    "\\begin{bmatrix}\n",
    "T_x(e)-T_x^{given} \\\\\n",
    "T_y(e)-T_y^{given} \\\\\n",
    "T_z(e)-T_z^{given} \\\\\n",
    "R_x(e)-R_x^{given} \\\\\n",
    "R_y(e)-R_y^{given} \\\\\n",
    "R_z(e)-R_z^{given}\n",
    "\\end{bmatrix}\n",
    "\\end{equation}\n",
    "\n",
    "com $F,e\\in R^5$. A jacobiana como:\n",
    "\n",
    "\\begin{equation}\n",
    "J_G=\n",
    "\\begin{bmatrix}\n",
    "\\nabla{G_1^T(e)} \\\\\n",
    "\\vdots \\\\\n",
    "\\nabla{G_6^T(e)}\n",
    "\\end{bmatrix}_{\\ 6\\times6}\n",
    "\\end{equation}\n",
    "\n",
    "Para dado $e_0$ iteramos fazendo:\n",
    "\n",
    "\\begin{equation}\n",
    "e_{k+1}=e_{k}+d_{k}\n",
    "\\end{equation}\n",
    "\n",
    "\\begin{equation}\n",
    "J_G(e_{k})d_{k} = -G(e_{k})\n",
    "\\end{equation}\n",
    "\n",
    "Para $k$ definido como $10$ iterações\n",
    "\n",
    "Este passo irá calcular a Jacobiana:"
   ]
  },
  {
   "cell_type": "code",
   "execution_count": 49,
   "metadata": {},
   "outputs": [
    {
     "name": "stdout",
     "output_type": "stream",
     "text": [
      "Matrix([[(-389.54*cos(_M2) - 203.56*cos(_M2 + _M3))*cos(_M1), (389.54*sin(_M2) + 203.56*sin(_M2 + _M3))*sin(_M1), 203.56*sin(_M1)*sin(_M2 + _M3)], [-389.54*sin(_M1)*cos(_M2) - 203.56*sin(_M1)*cos(_M2 + _M3), -389.54*sin(_M2)*cos(_M1) - 203.56*sin(_M2 + _M3)*cos(_M1), -203.56*sin(_M2 + _M3)*cos(_M1)], [0, -389.54*cos(_M2) - 203.56*cos(_M2 + _M3), -203.56*cos(_M2 + _M3)]])\n"
     ]
    }
   ],
   "source": [
    "axes = sym.Matrix([Tx, Ty, Tz])\n",
    "\n",
    "motors = sym.Matrix([M1, M2, M3])\n",
    "\n",
    "J = axes.jacobian(motors)\n",
    "\n",
    "print(J)"
   ]
  },
  {
   "cell_type": "code",
   "execution_count": 40,
   "metadata": {
    "scrolled": false
   },
   "outputs": [
    {
     "name": "stdout",
     "output_type": "stream",
     "text": [
      "Jacob(0,0) = (-389.53999999999996*cos(_M2) - 203.56*cos(_M2 + _M3))*cos(_M1);\n",
      "\n",
      "Jacob(0,1) = (389.53999999999996*sin(_M2) + 203.56*sin(_M2 + _M3))*sin(_M1);\n",
      "\n",
      "Jacob(0,2) = 203.56*sin(_M1)*sin(_M2 + _M3);\n",
      "\n",
      "Jacob(1,0) = -389.54000000000002*sin(_M1)*cos(_M2) - 203.56*sin(_M1)*cos(_M2 + _M3);\n",
      "\n",
      "Jacob(1,1) = -389.54000000000002*sin(_M2)*cos(_M1) - 203.56*sin(_M2 + _M3)*cos(_M1);\n",
      "\n",
      "Jacob(1,2) = -203.56*sin(_M2 + _M3)*cos(_M1);\n",
      "\n",
      "Jacob(2,0) = 0;\n",
      "\n",
      "Jacob(2,1) = -389.53999999999996*cos(_M2) - 203.56*cos(_M2 + _M3);\n",
      "\n",
      "Jacob(2,2) = -203.56*cos(_M2 + _M3);\n",
      "\n"
     ]
    }
   ],
   "source": [
    "lJ = len(J)\n",
    "sqrtJ = int(lJ**(1/2))\n",
    "\n",
    "for i in range(lJ):\n",
    "    str_out = 'Jacob(' + str(i//sqrtJ) + ',' + str(i%sqrtJ) + ')'\n",
    "    str_out += ' = ' + str(sym.ccode(J[i]))\n",
    "    str_out += ';'\n",
    "    print(str_out)\n",
    "    print()"
   ]
  },
  {
   "cell_type": "code",
   "execution_count": 43,
   "metadata": {},
   "outputs": [
    {
     "data": {
      "text/plain": [
       "False"
      ]
     },
     "execution_count": 43,
     "metadata": {},
     "output_type": "execute_result"
    }
   ],
   "source": [
    "if(J[0].func == sym.core.add.Add):\n",
    "    print(1)\n",
    "\n",
    "J[0].func == sym.core.add.Add"
   ]
  },
  {
   "cell_type": "code",
   "execution_count": 50,
   "metadata": {},
   "outputs": [
    {
     "name": "stdout",
     "output_type": "stream",
     "text": [
      "_M1\n",
      "_M2\n",
      "_M3\n",
      "Matrix([[-593.100000000000, 0, 0], [0, 0, 0], [0, -593.100000000000, -203.560000000000]])\n",
      "Matrix([[-593.100000000000, 0, 0], [0, 0, 0], [0, -593.100000000000, -203.560000000000]])\n",
      "9\n"
     ]
    },
    {
     "ename": "NonInvertibleMatrixError",
     "evalue": "Matrix det == 0; not invertible.",
     "output_type": "error",
     "traceback": [
      "\u001b[1;31m---------------------------------------------------------------------------\u001b[0m",
      "\u001b[1;31mNonInvertibleMatrixError\u001b[0m                  Traceback (most recent call last)",
      "\u001b[1;32m<ipython-input-50-b3fa6e2ed955>\u001b[0m in \u001b[0;36m<module>\u001b[1;34m\u001b[0m\n\u001b[0;32m     20\u001b[0m \u001b[0mprint\u001b[0m\u001b[1;33m(\u001b[0m\u001b[0mlen\u001b[0m\u001b[1;33m(\u001b[0m\u001b[0mJ_evaluated\u001b[0m\u001b[1;33m)\u001b[0m\u001b[1;33m)\u001b[0m\u001b[1;33m\u001b[0m\u001b[1;33m\u001b[0m\u001b[0m\n\u001b[0;32m     21\u001b[0m \u001b[1;33m\u001b[0m\u001b[0m\n\u001b[1;32m---> 22\u001b[1;33m \u001b[1;33m(\u001b[0m\u001b[0mJ_evaluated\u001b[0m\u001b[1;33m**\u001b[0m\u001b[1;33m-\u001b[0m\u001b[1;36m1\u001b[0m\u001b[1;33m)\u001b[0m\u001b[1;33m\u001b[0m\u001b[1;33m\u001b[0m\u001b[0m\n\u001b[0m\u001b[0;32m     23\u001b[0m \u001b[1;33m\u001b[0m\u001b[0m\n\u001b[0;32m     24\u001b[0m \u001b[1;31m#for i in range(iterations):\u001b[0m\u001b[1;33m\u001b[0m\u001b[1;33m\u001b[0m\u001b[1;33m\u001b[0m\u001b[0m\n",
      "\u001b[1;32md:\\python\\python39\\lib\\site-packages\\sympy\\core\\decorators.py\u001b[0m in \u001b[0;36mbinary_op_wrapper\u001b[1;34m(self, other)\u001b[0m\n\u001b[0;32m    135\u001b[0m                     \u001b[1;32mif\u001b[0m \u001b[0mf\u001b[0m \u001b[1;32mis\u001b[0m \u001b[1;32mnot\u001b[0m \u001b[1;32mNone\u001b[0m\u001b[1;33m:\u001b[0m\u001b[1;33m\u001b[0m\u001b[1;33m\u001b[0m\u001b[0m\n\u001b[0;32m    136\u001b[0m                         \u001b[1;32mreturn\u001b[0m \u001b[0mf\u001b[0m\u001b[1;33m(\u001b[0m\u001b[0mself\u001b[0m\u001b[1;33m)\u001b[0m\u001b[1;33m\u001b[0m\u001b[1;33m\u001b[0m\u001b[0m\n\u001b[1;32m--> 137\u001b[1;33m             \u001b[1;32mreturn\u001b[0m \u001b[0mfunc\u001b[0m\u001b[1;33m(\u001b[0m\u001b[0mself\u001b[0m\u001b[1;33m,\u001b[0m \u001b[0mother\u001b[0m\u001b[1;33m)\u001b[0m\u001b[1;33m\u001b[0m\u001b[1;33m\u001b[0m\u001b[0m\n\u001b[0m\u001b[0;32m    138\u001b[0m         \u001b[1;32mreturn\u001b[0m \u001b[0mbinary_op_wrapper\u001b[0m\u001b[1;33m\u001b[0m\u001b[1;33m\u001b[0m\u001b[0m\n\u001b[0;32m    139\u001b[0m     \u001b[1;32mreturn\u001b[0m \u001b[0mpriority_decorator\u001b[0m\u001b[1;33m\u001b[0m\u001b[1;33m\u001b[0m\u001b[0m\n",
      "\u001b[1;32md:\\python\\python39\\lib\\site-packages\\sympy\\matrices\\common.py\u001b[0m in \u001b[0;36m__pow__\u001b[1;34m(self, exp)\u001b[0m\n\u001b[0;32m   2683\u001b[0m         \u001b[1;34m\"\"\"Return self**exp a scalar or symbol.\"\"\"\u001b[0m\u001b[1;33m\u001b[0m\u001b[1;33m\u001b[0m\u001b[0m\n\u001b[0;32m   2684\u001b[0m \u001b[1;33m\u001b[0m\u001b[0m\n\u001b[1;32m-> 2685\u001b[1;33m         \u001b[1;32mreturn\u001b[0m \u001b[0mself\u001b[0m\u001b[1;33m.\u001b[0m\u001b[0mpow\u001b[0m\u001b[1;33m(\u001b[0m\u001b[0mexp\u001b[0m\u001b[1;33m)\u001b[0m\u001b[1;33m\u001b[0m\u001b[1;33m\u001b[0m\u001b[0m\n\u001b[0m\u001b[0;32m   2686\u001b[0m \u001b[1;33m\u001b[0m\u001b[0m\n\u001b[0;32m   2687\u001b[0m \u001b[1;33m\u001b[0m\u001b[0m\n",
      "\u001b[1;32md:\\python\\python39\\lib\\site-packages\\sympy\\matrices\\common.py\u001b[0m in \u001b[0;36mpow\u001b[1;34m(self, exp, method)\u001b[0m\n\u001b[0;32m   2727\u001b[0m             \u001b[1;32mif\u001b[0m \u001b[0mexp\u001b[0m \u001b[1;33m<\u001b[0m \u001b[1;36m0\u001b[0m\u001b[1;33m:\u001b[0m\u001b[1;33m\u001b[0m\u001b[1;33m\u001b[0m\u001b[0m\n\u001b[0;32m   2728\u001b[0m                 \u001b[0mexp\u001b[0m \u001b[1;33m=\u001b[0m \u001b[1;33m-\u001b[0m\u001b[0mexp\u001b[0m\u001b[1;33m\u001b[0m\u001b[1;33m\u001b[0m\u001b[0m\n\u001b[1;32m-> 2729\u001b[1;33m                 \u001b[0ma\u001b[0m \u001b[1;33m=\u001b[0m \u001b[0ma\u001b[0m\u001b[1;33m.\u001b[0m\u001b[0minv\u001b[0m\u001b[1;33m(\u001b[0m\u001b[1;33m)\u001b[0m\u001b[1;33m\u001b[0m\u001b[1;33m\u001b[0m\u001b[0m\n\u001b[0m\u001b[0;32m   2730\u001b[0m         \u001b[1;31m# When certain conditions are met,\u001b[0m\u001b[1;33m\u001b[0m\u001b[1;33m\u001b[0m\u001b[1;33m\u001b[0m\u001b[0m\n\u001b[0;32m   2731\u001b[0m         \u001b[1;31m# Jordan block algorithm is faster than\u001b[0m\u001b[1;33m\u001b[0m\u001b[1;33m\u001b[0m\u001b[1;33m\u001b[0m\u001b[0m\n",
      "\u001b[1;32md:\\python\\python39\\lib\\site-packages\\sympy\\matrices\\matrices.py\u001b[0m in \u001b[0;36minv\u001b[1;34m(self, method, iszerofunc, try_block_diag)\u001b[0m\n\u001b[0;32m   2157\u001b[0m \u001b[1;33m\u001b[0m\u001b[0m\n\u001b[0;32m   2158\u001b[0m     \u001b[1;32mdef\u001b[0m \u001b[0minv\u001b[0m\u001b[1;33m(\u001b[0m\u001b[0mself\u001b[0m\u001b[1;33m,\u001b[0m \u001b[0mmethod\u001b[0m\u001b[1;33m=\u001b[0m\u001b[1;32mNone\u001b[0m\u001b[1;33m,\u001b[0m \u001b[0miszerofunc\u001b[0m\u001b[1;33m=\u001b[0m\u001b[0m_iszero\u001b[0m\u001b[1;33m,\u001b[0m \u001b[0mtry_block_diag\u001b[0m\u001b[1;33m=\u001b[0m\u001b[1;32mFalse\u001b[0m\u001b[1;33m)\u001b[0m\u001b[1;33m:\u001b[0m\u001b[1;33m\u001b[0m\u001b[1;33m\u001b[0m\u001b[0m\n\u001b[1;32m-> 2159\u001b[1;33m         return _inv(self, method=method, iszerofunc=iszerofunc,\n\u001b[0m\u001b[0;32m   2160\u001b[0m                 try_block_diag=try_block_diag)\n\u001b[0;32m   2161\u001b[0m \u001b[1;33m\u001b[0m\u001b[0m\n",
      "\u001b[1;32md:\\python\\python39\\lib\\site-packages\\sympy\\matrices\\inverse.py\u001b[0m in \u001b[0;36m_inv\u001b[1;34m(M, method, iszerofunc, try_block_diag)\u001b[0m\n\u001b[0;32m    457\u001b[0m \u001b[1;33m\u001b[0m\u001b[0m\n\u001b[0;32m    458\u001b[0m     \u001b[1;32mif\u001b[0m \u001b[0mmethod\u001b[0m \u001b[1;33m==\u001b[0m \u001b[1;34m\"GE\"\u001b[0m\u001b[1;33m:\u001b[0m\u001b[1;33m\u001b[0m\u001b[1;33m\u001b[0m\u001b[0m\n\u001b[1;32m--> 459\u001b[1;33m         \u001b[0mrv\u001b[0m \u001b[1;33m=\u001b[0m \u001b[0mM\u001b[0m\u001b[1;33m.\u001b[0m\u001b[0minverse_GE\u001b[0m\u001b[1;33m(\u001b[0m\u001b[0miszerofunc\u001b[0m\u001b[1;33m=\u001b[0m\u001b[0miszerofunc\u001b[0m\u001b[1;33m)\u001b[0m\u001b[1;33m\u001b[0m\u001b[1;33m\u001b[0m\u001b[0m\n\u001b[0m\u001b[0;32m    460\u001b[0m     \u001b[1;32melif\u001b[0m \u001b[0mmethod\u001b[0m \u001b[1;33m==\u001b[0m \u001b[1;34m\"LU\"\u001b[0m\u001b[1;33m:\u001b[0m\u001b[1;33m\u001b[0m\u001b[1;33m\u001b[0m\u001b[0m\n\u001b[0;32m    461\u001b[0m         \u001b[0mrv\u001b[0m \u001b[1;33m=\u001b[0m \u001b[0mM\u001b[0m\u001b[1;33m.\u001b[0m\u001b[0minverse_LU\u001b[0m\u001b[1;33m(\u001b[0m\u001b[0miszerofunc\u001b[0m\u001b[1;33m=\u001b[0m\u001b[0miszerofunc\u001b[0m\u001b[1;33m)\u001b[0m\u001b[1;33m\u001b[0m\u001b[1;33m\u001b[0m\u001b[0m\n",
      "\u001b[1;32md:\\python\\python39\\lib\\site-packages\\sympy\\matrices\\matrices.py\u001b[0m in \u001b[0;36minverse_GE\u001b[1;34m(self, iszerofunc)\u001b[0m\n\u001b[0;32m   2142\u001b[0m \u001b[1;33m\u001b[0m\u001b[0m\n\u001b[0;32m   2143\u001b[0m     \u001b[1;32mdef\u001b[0m \u001b[0minverse_GE\u001b[0m\u001b[1;33m(\u001b[0m\u001b[0mself\u001b[0m\u001b[1;33m,\u001b[0m \u001b[0miszerofunc\u001b[0m\u001b[1;33m=\u001b[0m\u001b[0m_iszero\u001b[0m\u001b[1;33m)\u001b[0m\u001b[1;33m:\u001b[0m\u001b[1;33m\u001b[0m\u001b[1;33m\u001b[0m\u001b[0m\n\u001b[1;32m-> 2144\u001b[1;33m         \u001b[1;32mreturn\u001b[0m \u001b[0m_inv_GE\u001b[0m\u001b[1;33m(\u001b[0m\u001b[0mself\u001b[0m\u001b[1;33m,\u001b[0m \u001b[0miszerofunc\u001b[0m\u001b[1;33m=\u001b[0m\u001b[0miszerofunc\u001b[0m\u001b[1;33m)\u001b[0m\u001b[1;33m\u001b[0m\u001b[1;33m\u001b[0m\u001b[0m\n\u001b[0m\u001b[0;32m   2145\u001b[0m \u001b[1;33m\u001b[0m\u001b[0m\n\u001b[0;32m   2146\u001b[0m     \u001b[1;32mdef\u001b[0m \u001b[0minverse_LU\u001b[0m\u001b[1;33m(\u001b[0m\u001b[0mself\u001b[0m\u001b[1;33m,\u001b[0m \u001b[0miszerofunc\u001b[0m\u001b[1;33m=\u001b[0m\u001b[0m_iszero\u001b[0m\u001b[1;33m)\u001b[0m\u001b[1;33m:\u001b[0m\u001b[1;33m\u001b[0m\u001b[1;33m\u001b[0m\u001b[0m\n",
      "\u001b[1;32md:\\python\\python39\\lib\\site-packages\\sympy\\matrices\\inverse.py\u001b[0m in \u001b[0;36m_inv_GE\u001b[1;34m(M, iszerofunc)\u001b[0m\n\u001b[0;32m    243\u001b[0m \u001b[1;33m\u001b[0m\u001b[0m\n\u001b[0;32m    244\u001b[0m     \u001b[1;32mif\u001b[0m \u001b[0many\u001b[0m\u001b[1;33m(\u001b[0m\u001b[0miszerofunc\u001b[0m\u001b[1;33m(\u001b[0m\u001b[0mred\u001b[0m\u001b[1;33m[\u001b[0m\u001b[0mj\u001b[0m\u001b[1;33m,\u001b[0m \u001b[0mj\u001b[0m\u001b[1;33m]\u001b[0m\u001b[1;33m)\u001b[0m \u001b[1;32mfor\u001b[0m \u001b[0mj\u001b[0m \u001b[1;32min\u001b[0m \u001b[0mrange\u001b[0m\u001b[1;33m(\u001b[0m\u001b[0mred\u001b[0m\u001b[1;33m.\u001b[0m\u001b[0mrows\u001b[0m\u001b[1;33m)\u001b[0m\u001b[1;33m)\u001b[0m\u001b[1;33m:\u001b[0m\u001b[1;33m\u001b[0m\u001b[1;33m\u001b[0m\u001b[0m\n\u001b[1;32m--> 245\u001b[1;33m         \u001b[1;32mraise\u001b[0m \u001b[0mNonInvertibleMatrixError\u001b[0m\u001b[1;33m(\u001b[0m\u001b[1;34m\"Matrix det == 0; not invertible.\"\u001b[0m\u001b[1;33m)\u001b[0m\u001b[1;33m\u001b[0m\u001b[1;33m\u001b[0m\u001b[0m\n\u001b[0m\u001b[0;32m    246\u001b[0m \u001b[1;33m\u001b[0m\u001b[0m\n\u001b[0;32m    247\u001b[0m     \u001b[1;32mreturn\u001b[0m \u001b[0mM\u001b[0m\u001b[1;33m.\u001b[0m\u001b[0m_new\u001b[0m\u001b[1;33m(\u001b[0m\u001b[0mred\u001b[0m\u001b[1;33m[\u001b[0m\u001b[1;33m:\u001b[0m\u001b[1;33m,\u001b[0m \u001b[0mbig\u001b[0m\u001b[1;33m.\u001b[0m\u001b[0mrows\u001b[0m\u001b[1;33m:\u001b[0m\u001b[1;33m]\u001b[0m\u001b[1;33m)\u001b[0m\u001b[1;33m\u001b[0m\u001b[1;33m\u001b[0m\u001b[0m\n",
      "\u001b[1;31mNonInvertibleMatrixError\u001b[0m: Matrix det == 0; not invertible."
     ]
    }
   ],
   "source": [
    "iterations = 10\n",
    "\n",
    "Tx_newton = 1\n",
    "Ty_newton = 1\n",
    "Tz_newton = 1\n",
    "#Rz_newton = mpmath.radians(0)\n",
    "\n",
    "G = sym.Matrix([-Tx+Tx_newton, -Ty+Ty_newton, -Tz+Tz_newton])\n",
    "e = np.array([[0], [0], [0]])\n",
    "\n",
    "print(J.subs([(M1, e[0][0]), (M2, e[1][0]), (M3, e[2][0])]))\n",
    "\n",
    "J_evaluated = sym.N(J.subs([(M1, e[0][0]), (M2, e[1][0]), (M3, e[2][0])]))\n",
    "\n",
    "print(J_evaluated)\n",
    "print(len(J_evaluated))\n",
    "\n",
    "(J_evaluated**-1)\n",
    "\n",
    "#for i in range(iterations):\n",
    "#    J_evaluated = sym.N(J.subs([(M1, e[0][0]), (M2, e[1][0]), (M3, e[2][0])]))\n",
    "#    G_evaluated = sym.N(G.subs([(M1, e[0][0]), (M2, e[1][0]), (M3, e[2][0])]))\n",
    "#    e = np.array(e + (J_evaluated**-1) * G_evaluated)\n",
    "#\n",
    "#print('Motor 1:', mpmath.degrees(e[0][0]), '°')\n",
    "#print('Motor 2:', mpmath.degrees(e[1][0]), '°')\n",
    "#print('Motor 3:', mpmath.degrees(e[2][0]), '°')\n",
    "#print()\n",
    "#print('Motor 1:', e[0][0], 'rad')\n",
    "#print('Motor 2:', e[1][0], 'rad')\n",
    "#print('Motor 3:', e[2][0], 'rad')"
   ]
  },
  {
   "cell_type": "code",
   "execution_count": null,
   "metadata": {},
   "outputs": [],
   "source": []
  }
 ],
 "metadata": {
  "kernelspec": {
   "display_name": "Python 3",
   "language": "python",
   "name": "python3"
  },
  "language_info": {
   "codemirror_mode": {
    "name": "ipython",
    "version": 3
   },
   "file_extension": ".py",
   "mimetype": "text/x-python",
   "name": "python",
   "nbconvert_exporter": "python",
   "pygments_lexer": "ipython3",
   "version": "3.9.2"
  },
  "toc": {
   "base_numbering": 1,
   "nav_menu": {},
   "number_sections": true,
   "sideBar": true,
   "skip_h1_title": false,
   "title_cell": "Table of Contents",
   "title_sidebar": "Contents",
   "toc_cell": false,
   "toc_position": {},
   "toc_section_display": true,
   "toc_window_display": false
  }
 },
 "nbformat": 4,
 "nbformat_minor": 2
}
