{
 "cells": [
  {
   "cell_type": "markdown",
   "metadata": {},
   "source": [
    "# Cinemática Braço Robtótico Leticya\n",
    "\n",
    "### Bancada de Testes de Pré-Carga de Fusos de Esfera Integrada com Braço Robótico\n",
    "\n",
    "### Referências\n",
    "- https://www.youtube.com/watch?v=4WRhVqQaZTE\n",
    "- https://robotics.stackexchange.com/questions/8516/getting-pitch-yaw-and-roll-from-rotation-matrix-in-dh-parameter\n",
    "- https://automaticaddison.com/how-to-assign-denavit-hartenberg-frames-to-robotic-arms/\n",
    "- https://d3cw3dd2w32x2b.cloudfront.net/wp-content/uploads/2012/07/euler-angles1.pdf\n",
    "\n",
    "# 1.0 Bibliotecas e Funções"
   ]
  },
  {
   "cell_type": "code",
   "execution_count": 1,
   "metadata": {},
   "outputs": [],
   "source": [
    "import math\n",
    "import mpmath\n",
    "import numpy as np\n",
    "import sympy as sym\n",
    "\n",
    "def Rot_x(Rx):\n",
    "    return sym.Matrix([\n",
    "                      [1, 0,           0,            0],\n",
    "                      [0, sym.cos(Rx), -sym.sin(Rx), 0],\n",
    "                      [0, sym.sin(Rx), sym.cos(Rx),  0],\n",
    "                      [0, 0,           0,            1]  \n",
    "                      ])\n",
    "\n",
    "def Rot_y(Ry):\n",
    "    return sym.Matrix([\n",
    "                      [sym.cos(Ry),  0, sym.sin(Ry), 0],\n",
    "                      [0,            1, 0,           0],\n",
    "                      [-sym.sin(Ry), 0, sym.cos(Ry), 0],\n",
    "                      [0,            0, 0,           1]  \n",
    "                      ])\n",
    "\n",
    "def Rot_z(Rz):\n",
    "    return sym.Matrix([\n",
    "                      [sym.cos(Rz), -sym.sin(Rz), 0, 0],\n",
    "                      [sym.sin(Rz), sym.cos(Rz),  0, 0],\n",
    "                      [0,           0,            1, 0],\n",
    "                      [0,           0,            0, 1]\n",
    "                      ])\n",
    "\n",
    "def Transl_x(Tx):\n",
    "    return sym.Matrix([\n",
    "                      [1, 0, 0, Tx],\n",
    "                      [0, 1, 0, 0],\n",
    "                      [0, 0, 1, 0],\n",
    "                      [0, 0, 0, 1]\n",
    "                      ])\n",
    "\n",
    "def Transl_y(Ty):\n",
    "    return sym.Matrix([\n",
    "                      [1, 0, 0, 0 ],\n",
    "                      [0, 1, 0, Ty],\n",
    "                      [0, 0, 1, 0 ],\n",
    "                      [0, 0, 0, 1 ]\n",
    "                      ])\n",
    "\n",
    "def Transl_z(Tz):\n",
    "    return sym.Matrix([\n",
    "                      [1, 0, 0, 0 ],\n",
    "                      [0, 1, 0, 0 ],\n",
    "                      [0, 0, 1, Tz],\n",
    "                      [0, 0, 0, 1 ] \n",
    "                      ])"
   ]
  },
  {
   "cell_type": "markdown",
   "metadata": {},
   "source": [
    "# 2.0 Cinemática direta\n",
    "\n",
    "### 2.1 Configuração do Robô"
   ]
  },
  {
   "cell_type": "code",
   "execution_count": 2,
   "metadata": {},
   "outputs": [],
   "source": [
    "# Distâncias entre os eixos\n",
    "d1 = 1\n",
    "d2 = 1\n",
    "d3 = 1\n",
    "d4 = 1\n",
    "d5 = 1\n",
    "d6 = 1\n",
    "d7 = 1"
   ]
  },
  {
   "cell_type": "markdown",
   "metadata": {},
   "source": [
    "### 2.2 Simbologias para cálculo"
   ]
  },
  {
   "cell_type": "code",
   "execution_count": 3,
   "metadata": {},
   "outputs": [],
   "source": [
    "# Variáveis de distância\n",
    "sym_d1 = sym.Symbol('d1')\n",
    "sym_d2 = sym.Symbol('d2')\n",
    "sym_d3 = sym.Symbol('d3')\n",
    "sym_d4 = sym.Symbol('d4')\n",
    "sym_d5 = sym.Symbol('d5')\n",
    "sym_d6 = sym.Symbol('d6')\n",
    "sym_d7 = sym.Symbol('d7')\n",
    "\n",
    "# Variáveis de offset\n",
    "sym_off_Tx = sym.Symbol('OFFSET_Tx')\n",
    "sym_off_Ty = sym.Symbol('OFFSET_Ty')\n",
    "sym_off_Tz = sym.Symbol('OFFSET_Tz')\n",
    "sym_off_Rx = sym.Symbol('OFFSET_Rx')\n",
    "sym_off_Ry = sym.Symbol('OFFSET_Ry')\n",
    "sym_off_Rz = sym.Symbol('OFFSET_Rz')\n",
    "\n",
    "# Rotações atuais dos motores\n",
    "sym_M1 = sym.Symbol('M1')\n",
    "sym_M2 = sym.Symbol('M2')\n",
    "sym_M3 = sym.Symbol('M3')\n",
    "sym_M4 = sym.Symbol('M4')\n",
    "sym_M5 = sym.Symbol('M5')\n",
    "sym_M6 = sym.Symbol('M6')\n",
    "\n",
    "# Eixos interpolados finais\n",
    "sym_Tx = sym.Symbol('Tx')\n",
    "sym_Ty = sym.Symbol('Ty')\n",
    "sym_Tz = sym.Symbol('Tz')\n",
    "sym_Rx = sym.Symbol('Rx')\n",
    "sym_Ry = sym.Symbol('Ry')\n",
    "sym_Rz = sym.Symbol('Rz')\n",
    "\n",
    "# Simbolos para otimização de processamento das equações\n",
    "sym_SIN_M2        = sym.Symbol(\"SIN_M2\")\n",
    "sym_SIN_M3        = sym.Symbol(\"SIN_M3\")\n",
    "sym_SIN_M4        = sym.Symbol(\"SIN_M4\")\n",
    "sym_SIN_M5        = sym.Symbol(\"SIN_M5\")\n",
    "sym_SIN_M6        = sym.Symbol(\"SIN_M6\")\n",
    "sym_COS_M2        = sym.Symbol(\"COS_M2\")\n",
    "sym_COS_M3        = sym.Symbol(\"COS_M3\")\n",
    "sym_COS_M4        = sym.Symbol(\"COS_M4\")\n",
    "sym_COS_M5        = sym.Symbol(\"COS_M5\")\n",
    "sym_COS_M6        = sym.Symbol(\"COS_M6\")\n",
    "sym_COS_OFF_RX    = sym.Symbol(\"COS_OFF_RX\")\n",
    "sym_COS_OFF_RY    = sym.Symbol(\"COS_OFF_RY\")\n",
    "sym_COS_OFF_RZ    = sym.Symbol(\"COS_OFF_RZ\")\n",
    "sym_SIN_OFF_RX    = sym.Symbol(\"SIN_OFF_RX\")\n",
    "sym_SIN_OFF_RY    = sym.Symbol(\"SIN_OFF_RY\")\n",
    "sym_SIN_OFF_RZ    = sym.Symbol(\"SIN_OFF_RZ\")\n",
    "sym_SIN_M2_M3     = sym.Symbol(\"SIN_M2_M3\")\n",
    "sym_COS_M2_M3     = sym.Symbol(\"COS_M2_M3\")\n",
    "sym_SIN_M1_OFF_RZ = sym.Symbol(\"SIN_M1_OFF_RZ\")\n",
    "sym_COS_M1_OFF_RZ = sym.Symbol(\"COS_M1_OFF_RZ\")"
   ]
  },
  {
   "cell_type": "markdown",
   "metadata": {},
   "source": [
    "### 2.3 Matrizes de rotação e translação homogêneas"
   ]
  },
  {
   "cell_type": "code",
   "execution_count": 4,
   "metadata": {},
   "outputs": [],
   "source": [
    "# Transformações dos sistemas de coordenadas da base (Sistema Inercial) até o ponto de pivotamento (Garra)\n",
    "Toff = Rot_x(-sym_off_Rx) * Rot_y(-sym_off_Ry) * Rot_z(-sym_off_Rz) * Transl_x(-sym_off_Tx) * Transl_y(-sym_off_Ty) * Transl_z(-sym_off_Tz)\n",
    "T12 = Rot_z(sym_M1) * Transl_z(sym_d1)\n",
    "T23 = Rot_x(sym_M2) * Transl_y(sym_d2)\n",
    "T34 = Rot_x(sym_M3) * Transl_y(sym_d3)\n",
    "T45 = Rot_y(sym_M4) * Transl_y(sym_d4)\n",
    "T56 = Rot_x(sym_M5) * Transl_y(sym_d5)\n",
    "T67 = Rot_z(sym_M6) * Transl_z(sym_d6) * Transl_y(sym_d7)\n",
    "\n",
    "# Matriz final\n",
    "T = sym.simplify(Toff*T12*T23*T34*T45*T56*T67)"
   ]
  },
  {
   "cell_type": "markdown",
   "metadata": {},
   "source": [
    "### 2.4 Extração das equações da Cinemática Direta"
   ]
  },
  {
   "cell_type": "code",
   "execution_count": 5,
   "metadata": {},
   "outputs": [],
   "source": [
    "# Cálculo da referência da ponta da Garra ao ponto Zero para extrair as translações\n",
    "XYZ = T*np.array([[0],[0],[0],[1]])\n",
    "\n",
    "# Isolando as translações da Matriz encontrada\n",
    "X = sym.simplify(XYZ[0])\n",
    "Y = sym.simplify(XYZ[1])\n",
    "Z = sym.simplify(XYZ[2])\n",
    "\n",
    "# Criação das equações simbólicas das translações\n",
    "equations = [X-sym_Tx, Y-sym_Ty, Z-sym_Tz]"
   ]
  },
  {
   "cell_type": "code",
   "execution_count": 6,
   "metadata": {},
   "outputs": [],
   "source": [
    "# Solução das equações de translação\n",
    "Tx_Raw = sym.simplify(sym.solve(equations[0], sym_Tx)[0])\n",
    "Ty_Raw = sym.simplify(sym.solve(equations[1], sym_Ty)[0])\n",
    "Tz_Raw = sym.simplify(sym.solve(equations[2], sym_Tz)[0])"
   ]
  },
  {
   "cell_type": "code",
   "execution_count": 7,
   "metadata": {},
   "outputs": [],
   "source": [
    "# Declaração de alguns índices da Matriz T para encontrar as equações de rotação\n",
    "T00 = T[0,0]\n",
    "T01 = T[0,1]\n",
    "T02 = T[0,2]\n",
    "T10 = T[1,0]\n",
    "T11 = T[1,1]\n",
    "T12 = T[1,2]\n",
    "T20 = T[2,0]\n",
    "T21 = T[2,1]\n",
    "T22 = T[2,2]\n",
    "\n",
    "# Solução das equações de rotação\n",
    "Rx_Raw = sym.simplify(-sym.atan2(T12, T22))\n",
    "Ry_Raw = sym.simplify(-sym.atan2(-T02, sym.sqrt((T00**2)+(T01**2))))\n",
    "Rz_Raw = sym.simplify(-sym.atan2(sym.sin(-Rx_Raw)*T20-sym.cos(-Rx_Raw)*T10, sym.cos(-Rx_Raw)*T11-sym.sin(-Rx_Raw)*T21))"
   ]
  },
  {
   "cell_type": "markdown",
   "metadata": {},
   "source": [
    "### 2.5 Tratamento das equações diretas para otimização dos cálculos"
   ]
  },
  {
   "cell_type": "code",
   "execution_count": 8,
   "metadata": {},
   "outputs": [],
   "source": [
    "# Substituição dos cálculos de seno e cosseno por variáveis com valores já calculados\n",
    "Tx = Tx_Raw.subs([(sym.sin(sym_M2),sym_SIN_M2),(sym.sin(sym_M3),sym_SIN_M3),(sym.sin(sym_M4),sym_SIN_M4),(sym.sin(sym_M5),sym_SIN_M5),(sym.sin(sym_M6),sym_SIN_M6),(sym.cos(sym_M2),sym_COS_M2),(sym.cos(sym_M3),sym_COS_M3),(sym.cos(sym_M4),sym_COS_M4),(sym.cos(sym_M5),sym_COS_M5),(sym.cos(sym_M6),sym_COS_M6),(sym.cos(sym_off_Rx),sym_COS_OFF_RX),(sym.cos(sym_off_Ry),sym_COS_OFF_RY),(sym.cos(sym_off_Rz),sym_COS_OFF_RZ),(sym.sin(sym_off_Rx),sym_SIN_OFF_RX),(sym.sin(sym_off_Ry),sym_SIN_OFF_RY),(sym.sin(sym_off_Rz),sym_SIN_OFF_RZ),(sym.sin(sym_M2+sym_M3),sym_SIN_M2_M3),(sym.cos(sym_M2+sym_M3),sym_COS_M2_M3),(sym.sin(sym_M1-sym_off_Rz),sym_SIN_M1_OFF_RZ),(sym.cos(sym_M1-sym_off_Rz),sym_COS_M1_OFF_RZ)])\n",
    "Ty = Ty_Raw.subs([(sym.sin(sym_M2),sym_SIN_M2),(sym.sin(sym_M3),sym_SIN_M3),(sym.sin(sym_M4),sym_SIN_M4),(sym.sin(sym_M5),sym_SIN_M5),(sym.sin(sym_M6),sym_SIN_M6),(sym.cos(sym_M2),sym_COS_M2),(sym.cos(sym_M3),sym_COS_M3),(sym.cos(sym_M4),sym_COS_M4),(sym.cos(sym_M5),sym_COS_M5),(sym.cos(sym_M6),sym_COS_M6),(sym.cos(sym_off_Rx),sym_COS_OFF_RX),(sym.cos(sym_off_Ry),sym_COS_OFF_RY),(sym.cos(sym_off_Rz),sym_COS_OFF_RZ),(sym.sin(sym_off_Rx),sym_SIN_OFF_RX),(sym.sin(sym_off_Ry),sym_SIN_OFF_RY),(sym.sin(sym_off_Rz),sym_SIN_OFF_RZ),(sym.sin(sym_M2+sym_M3),sym_SIN_M2_M3),(sym.cos(sym_M2+sym_M3),sym_COS_M2_M3),(sym.sin(sym_M1-sym_off_Rz),sym_SIN_M1_OFF_RZ),(sym.cos(sym_M1-sym_off_Rz),sym_COS_M1_OFF_RZ)])\n",
    "Tz = Tz_Raw.subs([(sym.sin(sym_M2),sym_SIN_M2),(sym.sin(sym_M3),sym_SIN_M3),(sym.sin(sym_M4),sym_SIN_M4),(sym.sin(sym_M5),sym_SIN_M5),(sym.sin(sym_M6),sym_SIN_M6),(sym.cos(sym_M2),sym_COS_M2),(sym.cos(sym_M3),sym_COS_M3),(sym.cos(sym_M4),sym_COS_M4),(sym.cos(sym_M5),sym_COS_M5),(sym.cos(sym_M6),sym_COS_M6),(sym.cos(sym_off_Rx),sym_COS_OFF_RX),(sym.cos(sym_off_Ry),sym_COS_OFF_RY),(sym.cos(sym_off_Rz),sym_COS_OFF_RZ),(sym.sin(sym_off_Rx),sym_SIN_OFF_RX),(sym.sin(sym_off_Ry),sym_SIN_OFF_RY),(sym.sin(sym_off_Rz),sym_SIN_OFF_RZ),(sym.sin(sym_M2+sym_M3),sym_SIN_M2_M3),(sym.cos(sym_M2+sym_M3),sym_COS_M2_M3),(sym.sin(sym_M1-sym_off_Rz),sym_SIN_M1_OFF_RZ),(sym.cos(sym_M1-sym_off_Rz),sym_COS_M1_OFF_RZ)])\n",
    "Rx = Rx_Raw.subs([(sym.sin(sym_M2),sym_SIN_M2),(sym.sin(sym_M3),sym_SIN_M3),(sym.sin(sym_M4),sym_SIN_M4),(sym.sin(sym_M5),sym_SIN_M5),(sym.sin(sym_M6),sym_SIN_M6),(sym.cos(sym_M2),sym_COS_M2),(sym.cos(sym_M3),sym_COS_M3),(sym.cos(sym_M4),sym_COS_M4),(sym.cos(sym_M5),sym_COS_M5),(sym.cos(sym_M6),sym_COS_M6),(sym.cos(sym_off_Rx),sym_COS_OFF_RX),(sym.cos(sym_off_Ry),sym_COS_OFF_RY),(sym.cos(sym_off_Rz),sym_COS_OFF_RZ),(sym.sin(sym_off_Rx),sym_SIN_OFF_RX),(sym.sin(sym_off_Ry),sym_SIN_OFF_RY),(sym.sin(sym_off_Rz),sym_SIN_OFF_RZ),(sym.sin(sym_M2+sym_M3),sym_SIN_M2_M3),(sym.cos(sym_M2+sym_M3),sym_COS_M2_M3),(sym.sin(sym_M1-sym_off_Rz),sym_SIN_M1_OFF_RZ),(sym.cos(sym_M1-sym_off_Rz),sym_COS_M1_OFF_RZ)])\n",
    "Ry = Ry_Raw.subs([(sym.sin(sym_M2),sym_SIN_M2),(sym.sin(sym_M3),sym_SIN_M3),(sym.sin(sym_M4),sym_SIN_M4),(sym.sin(sym_M5),sym_SIN_M5),(sym.sin(sym_M6),sym_SIN_M6),(sym.cos(sym_M2),sym_COS_M2),(sym.cos(sym_M3),sym_COS_M3),(sym.cos(sym_M4),sym_COS_M4),(sym.cos(sym_M5),sym_COS_M5),(sym.cos(sym_M6),sym_COS_M6),(sym.cos(sym_off_Rx),sym_COS_OFF_RX),(sym.cos(sym_off_Ry),sym_COS_OFF_RY),(sym.cos(sym_off_Rz),sym_COS_OFF_RZ),(sym.sin(sym_off_Rx),sym_SIN_OFF_RX),(sym.sin(sym_off_Ry),sym_SIN_OFF_RY),(sym.sin(sym_off_Rz),sym_SIN_OFF_RZ),(sym.sin(sym_M2+sym_M3),sym_SIN_M2_M3),(sym.cos(sym_M2+sym_M3),sym_COS_M2_M3),(sym.sin(sym_M1-sym_off_Rz),sym_SIN_M1_OFF_RZ),(sym.cos(sym_M1-sym_off_Rz),sym_COS_M1_OFF_RZ)])\n",
    "Rz = Rz_Raw.subs([(sym.sin(sym_M2),sym_SIN_M2),(sym.sin(sym_M3),sym_SIN_M3),(sym.sin(sym_M4),sym_SIN_M4),(sym.sin(sym_M5),sym_SIN_M5),(sym.sin(sym_M6),sym_SIN_M6),(sym.cos(sym_M2),sym_COS_M2),(sym.cos(sym_M3),sym_COS_M3),(sym.cos(sym_M4),sym_COS_M4),(sym.cos(sym_M5),sym_COS_M5),(sym.cos(sym_M6),sym_COS_M6),(sym.cos(sym_off_Rx),sym_COS_OFF_RX),(sym.cos(sym_off_Ry),sym_COS_OFF_RY),(sym.cos(sym_off_Rz),sym_COS_OFF_RZ),(sym.sin(sym_off_Rx),sym_SIN_OFF_RX),(sym.sin(sym_off_Ry),sym_SIN_OFF_RY),(sym.sin(sym_off_Rz),sym_SIN_OFF_RZ),(sym.sin(sym_M2+sym_M3),sym_SIN_M2_M3),(sym.cos(sym_M2+sym_M3),sym_COS_M2_M3),(sym.sin(sym_M1-sym_off_Rz),sym_SIN_M1_OFF_RZ),(sym.cos(sym_M1-sym_off_Rz),sym_COS_M1_OFF_RZ)])"
   ]
  },
  {
   "cell_type": "markdown",
   "metadata": {},
   "source": [
    "### 2.6 Print da Cinemática Direta para o CLP (Linguagem ST)"
   ]
  },
  {
   "cell_type": "code",
   "execution_count": 9,
   "metadata": {},
   "outputs": [
    {
     "name": "stdout",
     "output_type": "stream",
     "text": [
      "SIN_M2 := SIN(M2)\n",
      "SIN_M3 := SIN(M3)\n",
      "SIN_M4 := SIN(M4)\n",
      "SIN_M5 := SIN(M5)\n",
      "SIN_M6 := SIN(M6)\n",
      "COS_M2 := COS(M2)\n",
      "COS_M3 := COS(M3)\n",
      "COS_M4 := COS(M4)\n",
      "COS_M5 := COS(M5)\n",
      "COS_M6 := COS(M6)\n",
      "COS_OFF_RX := COS(OFFSET_Rx)\n",
      "COS_OFF_RY := COS(OFFSET_Ry)\n",
      "COS_OFF_RZ := COS(OFFSET_Rz)\n",
      "SIN_OFF_RX := SIN(OFFSET_Rx)\n",
      "SIN_OFF_RY := SIN(OFFSET_Ry)\n",
      "SIN_OFF_RZ := SIN(OFFSET_Rz)\n",
      "SIN_M2_M3 := SIN(M2 + M3)\n",
      "COS_M2_M3 := COS(M2 + M3)\n",
      "SIN_M1_OFF_RZ := SIN(M1 - OFFSET_Rz)\n",
      "COS_M1_OFF_RZ := COS(M1 - OFFSET_Rz)\n",
      "\n",
      "Tx := -COS_M1_OFF_RZ*COS_M4*COS_OFF_RY*SIN_M6*d7+COS_M1_OFF_RZ*COS_M5*COS_OFF_RY*SIN_M4*d6+COS_M1_OFF_RZ*COS_M6*COS_OFF_RY*SIN_M4*SIN_M5*d7+COS_M1_OFF_RZ*COS_OFF_RY*SIN_M4*SIN_M5*d5-COS_M2*COS_OFF_RY*SIN_M1_OFF_RZ*d2-COS_M2_M3*COS_M4*COS_M5*SIN_OFF_RY*d6-COS_M2_M3*COS_M4*COS_M6*SIN_M5*SIN_OFF_RY*d7-COS_M2_M3*COS_M4*SIN_M5*SIN_OFF_RY*d5-COS_M2_M3*COS_M5*COS_M6*COS_OFF_RY*SIN_M1_OFF_RZ*d7-COS_M2_M3*COS_M5*COS_OFF_RY*SIN_M1_OFF_RZ*d5+COS_M2_M3*COS_OFF_RY*SIN_M1_OFF_RZ*SIN_M5*d6-COS_M2_M3*COS_OFF_RY*SIN_M1_OFF_RZ*d3-COS_M2_M3*COS_OFF_RY*SIN_M1_OFF_RZ*d4-COS_M2_M3*SIN_M4*SIN_M6*SIN_OFF_RY*d7+COS_M4*COS_M5*COS_OFF_RY*SIN_M1_OFF_RZ*SIN_M2_M3*d6+COS_M4*COS_M6*COS_OFF_RY*SIN_M1_OFF_RZ*SIN_M2_M3*SIN_M5*d7+COS_M4*COS_OFF_RY*SIN_M1_OFF_RZ*SIN_M2_M3*SIN_M5*d5-COS_M5*COS_M6*SIN_M2_M3*SIN_OFF_RY*d7-COS_M5*SIN_M2_M3*SIN_OFF_RY*d5-COS_OFF_RY*COS_OFF_RZ*OFFSET_TX-COS_OFF_RY*OFFSET_TY*SIN_OFF_RZ+COS_OFF_RY*SIN_M1_OFF_RZ*SIN_M2_M3*SIN_M4*SIN_M6*d7+OFFSET_TZ*SIN_OFF_RY-SIN_M2*SIN_OFF_RY*d2+SIN_M2_M3*SIN_M5*SIN_OFF_RY*d6-SIN_M2_M3*SIN_OFF_RY*d3-SIN_M2_M3*SIN_OFF_RY*d4-SIN_OFF_RY*d1;\n",
      "\n",
      "Ty := COS_M1_OFF_RZ*COS_M2*COS_OFF_RX*d2+COS_M1_OFF_RZ*COS_M2_M3*COS_M5*COS_M6*COS_OFF_RX*d7+COS_M1_OFF_RZ*COS_M2_M3*COS_M5*COS_OFF_RX*d5-COS_M1_OFF_RZ*COS_M2_M3*COS_OFF_RX*SIN_M5*d6+COS_M1_OFF_RZ*COS_M2_M3*COS_OFF_RX*d3+COS_M1_OFF_RZ*COS_M2_M3*COS_OFF_RX*d4-COS_M1_OFF_RZ*COS_M4*COS_M5*COS_OFF_RX*SIN_M2_M3*d6-COS_M1_OFF_RZ*COS_M4*COS_M6*COS_OFF_RX*SIN_M2_M3*SIN_M5*d7-COS_M1_OFF_RZ*COS_M4*COS_OFF_RX*SIN_M2_M3*SIN_M5*d5-COS_M1_OFF_RZ*COS_M4*SIN_M6*SIN_OFF_RX*SIN_OFF_RY*d7+COS_M1_OFF_RZ*COS_M5*SIN_M4*SIN_OFF_RX*SIN_OFF_RY*d6+COS_M1_OFF_RZ*COS_M6*SIN_M4*SIN_M5*SIN_OFF_RX*SIN_OFF_RY*d7-COS_M1_OFF_RZ*COS_OFF_RX*SIN_M2_M3*SIN_M4*SIN_M6*d7+COS_M1_OFF_RZ*SIN_M4*SIN_M5*SIN_OFF_RX*SIN_OFF_RY*d5-COS_M2*SIN_M1_OFF_RZ*SIN_OFF_RX*SIN_OFF_RY*d2+COS_M2_M3*COS_M4*COS_M5*COS_OFF_RY*SIN_OFF_RX*d6+COS_M2_M3*COS_M4*COS_M6*COS_OFF_RY*SIN_M5*SIN_OFF_RX*d7+COS_M2_M3*COS_M4*COS_OFF_RY*SIN_M5*SIN_OFF_RX*d5-COS_M2_M3*COS_M5*COS_M6*SIN_M1_OFF_RZ*SIN_OFF_RX*SIN_OFF_RY*d7-COS_M2_M3*COS_M5*SIN_M1_OFF_RZ*SIN_OFF_RX*SIN_OFF_RY*d5+COS_M2_M3*COS_OFF_RY*SIN_M4*SIN_M6*SIN_OFF_RX*d7+COS_M2_M3*SIN_M1_OFF_RZ*SIN_M5*SIN_OFF_RX*SIN_OFF_RY*d6-COS_M2_M3*SIN_M1_OFF_RZ*SIN_OFF_RX*SIN_OFF_RY*d3-COS_M2_M3*SIN_M1_OFF_RZ*SIN_OFF_RX*SIN_OFF_RY*d4+COS_M4*COS_M5*SIN_M1_OFF_RZ*SIN_M2_M3*SIN_OFF_RX*SIN_OFF_RY*d6+COS_M4*COS_M6*SIN_M1_OFF_RZ*SIN_M2_M3*SIN_M5*SIN_OFF_RX*SIN_OFF_RY*d7-COS_M4*COS_OFF_RX*SIN_M1_OFF_RZ*SIN_M6*d7+COS_M4*SIN_M1_OFF_RZ*SIN_M2_M3*SIN_M5*SIN_OFF_RX*SIN_OFF_RY*d5+COS_M5*COS_M6*COS_OFF_RY*SIN_M2_M3*SIN_OFF_RX*d7+COS_M5*COS_OFF_RX*SIN_M1_OFF_RZ*SIN_M4*d6+COS_M5*COS_OFF_RY*SIN_M2_M3*SIN_OFF_RX*d5+COS_M6*COS_OFF_RX*SIN_M1_OFF_RZ*SIN_M4*SIN_M5*d7-COS_OFF_RX*COS_OFF_RZ*OFFSET_TY+COS_OFF_RX*OFFSET_TX*SIN_OFF_RZ+COS_OFF_RX*SIN_M1_OFF_RZ*SIN_M4*SIN_M5*d5-COS_OFF_RY*OFFSET_TZ*SIN_OFF_RX+COS_OFF_RY*SIN_M2*SIN_OFF_RX*d2-COS_OFF_RY*SIN_M2_M3*SIN_M5*SIN_OFF_RX*d6+COS_OFF_RY*SIN_M2_M3*SIN_OFF_RX*d3+COS_OFF_RY*SIN_M2_M3*SIN_OFF_RX*d4+COS_OFF_RY*SIN_OFF_RX*d1-COS_OFF_RZ*OFFSET_TX*SIN_OFF_RX*SIN_OFF_RY-OFFSET_TY*SIN_OFF_RX*SIN_OFF_RY*SIN_OFF_RZ+SIN_M1_OFF_RZ*SIN_M2_M3*SIN_M4*SIN_M6*SIN_OFF_RX*SIN_OFF_RY*d7;\n",
      "\n",
      "Tz := -COS_M1_OFF_RZ*COS_M2*SIN_OFF_RX*d2-COS_M1_OFF_RZ*COS_M2_M3*COS_M5*COS_M6*SIN_OFF_RX*d7-COS_M1_OFF_RZ*COS_M2_M3*COS_M5*SIN_OFF_RX*d5+COS_M1_OFF_RZ*COS_M2_M3*SIN_M5*SIN_OFF_RX*d6-COS_M1_OFF_RZ*COS_M2_M3*SIN_OFF_RX*d3-COS_M1_OFF_RZ*COS_M2_M3*SIN_OFF_RX*d4+COS_M1_OFF_RZ*COS_M4*COS_M5*SIN_M2_M3*SIN_OFF_RX*d6+COS_M1_OFF_RZ*COS_M4*COS_M6*SIN_M2_M3*SIN_M5*SIN_OFF_RX*d7-COS_M1_OFF_RZ*COS_M4*COS_OFF_RX*SIN_M6*SIN_OFF_RY*d7+COS_M1_OFF_RZ*COS_M4*SIN_M2_M3*SIN_M5*SIN_OFF_RX*d5+COS_M1_OFF_RZ*COS_M5*COS_OFF_RX*SIN_M4*SIN_OFF_RY*d6+COS_M1_OFF_RZ*COS_M6*COS_OFF_RX*SIN_M4*SIN_M5*SIN_OFF_RY*d7+COS_M1_OFF_RZ*COS_OFF_RX*SIN_M4*SIN_M5*SIN_OFF_RY*d5+COS_M1_OFF_RZ*SIN_M2_M3*SIN_M4*SIN_M6*SIN_OFF_RX*d7-COS_M2*COS_OFF_RX*SIN_M1_OFF_RZ*SIN_OFF_RY*d2+COS_M2_M3*COS_M4*COS_M5*COS_OFF_RX*COS_OFF_RY*d6+COS_M2_M3*COS_M4*COS_M6*COS_OFF_RX*COS_OFF_RY*SIN_M5*d7+COS_M2_M3*COS_M4*COS_OFF_RX*COS_OFF_RY*SIN_M5*d5-COS_M2_M3*COS_M5*COS_M6*COS_OFF_RX*SIN_M1_OFF_RZ*SIN_OFF_RY*d7-COS_M2_M3*COS_M5*COS_OFF_RX*SIN_M1_OFF_RZ*SIN_OFF_RY*d5+COS_M2_M3*COS_OFF_RX*COS_OFF_RY*SIN_M4*SIN_M6*d7+COS_M2_M3*COS_OFF_RX*SIN_M1_OFF_RZ*SIN_M5*SIN_OFF_RY*d6-COS_M2_M3*COS_OFF_RX*SIN_M1_OFF_RZ*SIN_OFF_RY*d3-COS_M2_M3*COS_OFF_RX*SIN_M1_OFF_RZ*SIN_OFF_RY*d4+COS_M4*COS_M5*COS_OFF_RX*SIN_M1_OFF_RZ*SIN_M2_M3*SIN_OFF_RY*d6+COS_M4*COS_M6*COS_OFF_RX*SIN_M1_OFF_RZ*SIN_M2_M3*SIN_M5*SIN_OFF_RY*d7+COS_M4*COS_OFF_RX*SIN_M1_OFF_RZ*SIN_M2_M3*SIN_M5*SIN_OFF_RY*d5+COS_M4*SIN_M1_OFF_RZ*SIN_M6*SIN_OFF_RX*d7+COS_M5*COS_M6*COS_OFF_RX*COS_OFF_RY*SIN_M2_M3*d7+COS_M5*COS_OFF_RX*COS_OFF_RY*SIN_M2_M3*d5-COS_M5*SIN_M1_OFF_RZ*SIN_M4*SIN_OFF_RX*d6-COS_M6*SIN_M1_OFF_RZ*SIN_M4*SIN_M5*SIN_OFF_RX*d7-COS_OFF_RX*COS_OFF_RY*OFFSET_TZ+COS_OFF_RX*COS_OFF_RY*SIN_M2*d2-COS_OFF_RX*COS_OFF_RY*SIN_M2_M3*SIN_M5*d6+COS_OFF_RX*COS_OFF_RY*SIN_M2_M3*d3+COS_OFF_RX*COS_OFF_RY*SIN_M2_M3*d4+COS_OFF_RX*COS_OFF_RY*d1-COS_OFF_RX*COS_OFF_RZ*OFFSET_TX*SIN_OFF_RY-COS_OFF_RX*OFFSET_TY*SIN_OFF_RY*SIN_OFF_RZ+COS_OFF_RX*SIN_M1_OFF_RZ*SIN_M2_M3*SIN_M4*SIN_M6*SIN_OFF_RY*d7+COS_OFF_RZ*OFFSET_TY*SIN_OFF_RX-OFFSET_TX*SIN_OFF_RX*SIN_OFF_RZ-SIN_M1_OFF_RZ*SIN_M4*SIN_M5*SIN_OFF_RX*d5;\n",
      "\n",
      "Rx := -ATAN2(COS_M5*(COS_M4*(-COS_M1_OFF_RZ*COS_OFF_RX*SIN_M2_M3+COS_M2_M3*COS_OFF_RY*SIN_OFF_RX+SIN_M1_OFF_RZ*SIN_M2_M3*SIN_OFF_RX*SIN_OFF_RY)+SIN_M4*(COS_M1_OFF_RZ*SIN_OFF_RX*SIN_OFF_RY+COS_OFF_RX*SIN_M1_OFF_RZ))-SIN_M5*(COS_M1_OFF_RZ*COS_M2_M3*COS_OFF_RX-COS_M2_M3*SIN_M1_OFF_RZ*SIN_OFF_RX*SIN_OFF_RY+COS_OFF_RY*SIN_M2_M3*SIN_OFF_RX),-COS_M5*(-COS_M4*(COS_M1_OFF_RZ*SIN_M2_M3*SIN_OFF_RX+COS_M2_M3*COS_OFF_RX*COS_OFF_RY+COS_OFF_RX*SIN_M1_OFF_RZ*SIN_M2_M3*SIN_OFF_RY)+SIN_M4*(-COS_M1_OFF_RZ*COS_OFF_RX*SIN_OFF_RY+SIN_M1_OFF_RZ*SIN_OFF_RX))+SIN_M5*(COS_M1_OFF_RZ*COS_M2_M3*SIN_OFF_RX+COS_M2_M3*COS_OFF_RX*SIN_M1_OFF_RZ*SIN_OFF_RY-COS_OFF_RX*COS_OFF_RY*SIN_M2_M3));\n",
      "\n",
      "Ry := -ATAN2(COS_M5*(-COS_M1_OFF_RZ*COS_OFF_RY*SIN_M4+COS_M4*(COS_M2_M3*SIN_OFF_RY-COS_OFF_RY*SIN_M1_OFF_RZ*SIN_M2_M3))-SIN_M5*(COS_M2_M3*COS_OFF_RY*SIN_M1_OFF_RZ+SIN_M2_M3*SIN_OFF_RY),SQRT((COS_M6*(COS_M5*(COS_M2_M3*COS_OFF_RY*SIN_M1_OFF_RZ+SIN_M2_M3*SIN_OFF_RY)+SIN_M5*(-COS_M1_OFF_RZ*COS_OFF_RY*SIN_M4+COS_M4*(COS_M2_M3*SIN_OFF_RY-COS_OFF_RY*SIN_M1_OFF_RZ*SIN_M2_M3)))+SIN_M6*(COS_M1_OFF_RZ*COS_M4*COS_OFF_RY+SIN_M4*(COS_M2_M3*SIN_OFF_RY-COS_OFF_RY*SIN_M1_OFF_RZ*SIN_M2_M3)))**2+(-COS_M6*(COS_M1_OFF_RZ*COS_M4*COS_OFF_RY+SIN_M4*(COS_M2_M3*SIN_OFF_RY-COS_OFF_RY*SIN_M1_OFF_RZ*SIN_M2_M3))+SIN_M6*(COS_M5*(COS_M2_M3*COS_OFF_RY*SIN_M1_OFF_RZ+SIN_M2_M3*SIN_OFF_RY)+SIN_M5*(-COS_M1_OFF_RZ*COS_OFF_RY*SIN_M4+COS_M4*(COS_M2_M3*SIN_OFF_RY-COS_OFF_RY*SIN_M1_OFF_RZ*SIN_M2_M3))))**2));\n",
      "\n",
      "Rz := -ATAN2(-(COS_M1_OFF_RZ*COS_M4*COS_OFF_RY*SIN_M6-COS_M1_OFF_RZ*COS_M6*COS_OFF_RY*SIN_M4*SIN_M5+COS_M2_M3*COS_M4*COS_M6*SIN_M5*SIN_OFF_RY+COS_M2_M3*COS_M5*COS_M6*COS_OFF_RY*SIN_M1_OFF_RZ+COS_M2_M3*SIN_M4*SIN_M6*SIN_OFF_RY-COS_M4*COS_M6*COS_OFF_RY*SIN_M1_OFF_RZ*SIN_M2_M3*SIN_M5+COS_M5*COS_M6*SIN_M2_M3*SIN_OFF_RY-COS_OFF_RY*SIN_M1_OFF_RZ*SIN_M2_M3*SIN_M4*SIN_M6)/SQRT((COS_M5*(COS_M4*(-COS_M1_OFF_RZ*COS_OFF_RX*SIN_M2_M3+COS_M2_M3*COS_OFF_RY*SIN_OFF_RX+SIN_M1_OFF_RZ*SIN_M2_M3*SIN_OFF_RX*SIN_OFF_RY)+SIN_M4*(COS_M1_OFF_RZ*SIN_OFF_RX*SIN_OFF_RY+COS_OFF_RX*SIN_M1_OFF_RZ))-SIN_M5*(COS_M1_OFF_RZ*COS_M2_M3*COS_OFF_RX-COS_M2_M3*SIN_M1_OFF_RZ*SIN_OFF_RX*SIN_OFF_RY+COS_OFF_RY*SIN_M2_M3*SIN_OFF_RX))**2+(COS_M5*(-COS_M4*(COS_M1_OFF_RZ*SIN_M2_M3*SIN_OFF_RX+COS_M2_M3*COS_OFF_RX*COS_OFF_RY+COS_OFF_RX*SIN_M1_OFF_RZ*SIN_M2_M3*SIN_OFF_RY)+SIN_M4*(-COS_M1_OFF_RZ*COS_OFF_RX*SIN_OFF_RY+SIN_M1_OFF_RZ*SIN_OFF_RX))-SIN_M5*(COS_M1_OFF_RZ*COS_M2_M3*SIN_OFF_RX+COS_M2_M3*COS_OFF_RX*SIN_M1_OFF_RZ*SIN_OFF_RY-COS_OFF_RX*COS_OFF_RY*SIN_M2_M3))**2),(COS_M1_OFF_RZ*COS_M4*COS_M6*COS_OFF_RY+COS_M1_OFF_RZ*COS_OFF_RY*SIN_M4*SIN_M5*SIN_M6-COS_M2_M3*COS_M4*SIN_M5*SIN_M6*SIN_OFF_RY-COS_M2_M3*COS_M5*COS_OFF_RY*SIN_M1_OFF_RZ*SIN_M6+COS_M2_M3*COS_M6*SIN_M4*SIN_OFF_RY+COS_M4*COS_OFF_RY*SIN_M1_OFF_RZ*SIN_M2_M3*SIN_M5*SIN_M6-COS_M5*SIN_M2_M3*SIN_M6*SIN_OFF_RY-COS_M6*COS_OFF_RY*SIN_M1_OFF_RZ*SIN_M2_M3*SIN_M4)/SQRT((COS_M5*(COS_M4*(-COS_M1_OFF_RZ*COS_OFF_RX*SIN_M2_M3+COS_M2_M3*COS_OFF_RY*SIN_OFF_RX+SIN_M1_OFF_RZ*SIN_M2_M3*SIN_OFF_RX*SIN_OFF_RY)+SIN_M4*(COS_M1_OFF_RZ*SIN_OFF_RX*SIN_OFF_RY+COS_OFF_RX*SIN_M1_OFF_RZ))-SIN_M5*(COS_M1_OFF_RZ*COS_M2_M3*COS_OFF_RX-COS_M2_M3*SIN_M1_OFF_RZ*SIN_OFF_RX*SIN_OFF_RY+COS_OFF_RY*SIN_M2_M3*SIN_OFF_RX))**2+(COS_M5*(-COS_M4*(COS_M1_OFF_RZ*SIN_M2_M3*SIN_OFF_RX+COS_M2_M3*COS_OFF_RX*COS_OFF_RY+COS_OFF_RX*SIN_M1_OFF_RZ*SIN_M2_M3*SIN_OFF_RY)+SIN_M4*(-COS_M1_OFF_RZ*COS_OFF_RX*SIN_OFF_RY+SIN_M1_OFF_RZ*SIN_OFF_RX))-SIN_M5*(COS_M1_OFF_RZ*COS_M2_M3*SIN_OFF_RX+COS_M2_M3*COS_OFF_RX*SIN_M1_OFF_RZ*SIN_OFF_RY-COS_OFF_RX*COS_OFF_RY*SIN_M2_M3))**2));\n"
     ]
    }
   ],
   "source": [
    "print(sym_SIN_M2        , ':= SIN(' + str(sym_M2) + ')')\n",
    "print(sym_SIN_M3        , ':= SIN(' + str(sym_M3) + ')')\n",
    "print(sym_SIN_M4        , ':= SIN(' + str(sym_M4) + ')')\n",
    "print(sym_SIN_M5        , ':= SIN(' + str(sym_M5) + ')')\n",
    "print(sym_SIN_M6        , ':= SIN(' + str(sym_M6) + ')')\n",
    "print(sym_COS_M2        , ':= COS(' + str(sym_M2) + ')')\n",
    "print(sym_COS_M3        , ':= COS(' + str(sym_M3) + ')')\n",
    "print(sym_COS_M4        , ':= COS(' + str(sym_M4) + ')')\n",
    "print(sym_COS_M5        , ':= COS(' + str(sym_M5) + ')')\n",
    "print(sym_COS_M6        , ':= COS(' + str(sym_M6) + ')')\n",
    "print(sym_COS_OFF_RX    , ':= COS(' + str(sym_off_Rx) + ')')\n",
    "print(sym_COS_OFF_RY    , ':= COS(' + str(sym_off_Ry) + ')')\n",
    "print(sym_COS_OFF_RZ    , ':= COS(' + str(sym_off_Rz) + ')')\n",
    "print(sym_SIN_OFF_RX    , ':= SIN(' + str(sym_off_Rx) + ')')\n",
    "print(sym_SIN_OFF_RY    , ':= SIN(' + str(sym_off_Ry) + ')')\n",
    "print(sym_SIN_OFF_RZ    , ':= SIN(' + str(sym_off_Rz) + ')')\n",
    "print(sym_SIN_M2_M3     , ':= SIN(' + str(sym_M2+sym_M3) + ')')\n",
    "print(sym_COS_M2_M3     , ':= COS(' + str(sym_M2+sym_M3) + ')')\n",
    "print(sym_SIN_M1_OFF_RZ , ':= SIN(' + str(sym_M1-sym_off_Rz) + ')')\n",
    "print(sym_COS_M1_OFF_RZ , ':= COS(' + str(sym_M1-sym_off_Rz) + ')')\n",
    "print()\n",
    "print('Tx := ' + (str(Tx) + ';\\n').upper().replace('D', 'd').replace(' ', ''))\n",
    "print('Ty := ' + (str(Ty) + ';\\n').upper().replace('D', 'd').replace(' ', ''))\n",
    "print('Tz := ' + (str(Tz) + ';\\n').upper().replace('D', 'd').replace(' ', ''))\n",
    "print('Rx := ' + (str(Rx) + ';\\n').upper().replace('D', 'd').replace(' ', ''))\n",
    "print('Ry := ' + (str(Ry) + ';\\n').upper().replace('D', 'd').replace(' ', ''))\n",
    "print('Rz := ' + (str(Rz) + ';'  ).upper().replace('D', 'd').replace(' ', ''))"
   ]
  },
  {
   "cell_type": "markdown",
   "metadata": {},
   "source": [
    "### 2.7 Simulação de Funcionamento da Cinemática Direta"
   ]
  },
  {
   "cell_type": "code",
   "execution_count": 10,
   "metadata": {
    "scrolled": true
   },
   "outputs": [
    {
     "name": "stdout",
     "output_type": "stream",
     "text": [
      "Tx: 0.00\n",
      "Ty: 0.00\n",
      "Tz: 0.00\n",
      "Rx: 0.00\n",
      "Ry: 0.00\n",
      "Rz: 0.00\n"
     ]
    }
   ],
   "source": [
    "# Posições dos motores (em graus) para a simulação\n",
    "m1 = 0\n",
    "m2 = 0\n",
    "m3 = 0\n",
    "m4 = 0\n",
    "m5 = 0\n",
    "m6 = 0\n",
    "\n",
    "# Valores de offset para a simulação\n",
    "off_Tx = 0\n",
    "off_Ty = 5\n",
    "off_Tz = 2\n",
    "off_Rx = 0\n",
    "off_Ry = 0\n",
    "off_Rz = 0\n",
    "\n",
    "# Conversão para radianos para uso na simulação\n",
    "m1_rad = mpmath.radians(m1)\n",
    "m2_rad = mpmath.radians(m2)\n",
    "m3_rad = mpmath.radians(m3)\n",
    "m4_rad = mpmath.radians(m4)\n",
    "m5_rad = mpmath.radians(m5)\n",
    "m6_rad = mpmath.radians(m6)\n",
    "\n",
    "# Preparação das variáveis\n",
    "SIN_M2        = math.sin(m2_rad)\n",
    "SIN_M3        = math.sin(m3_rad)\n",
    "SIN_M4        = math.sin(m4_rad)\n",
    "SIN_M5        = math.sin(m5_rad)\n",
    "SIN_M6        = math.sin(m6_rad)\n",
    "COS_M2        = math.cos(m2_rad)\n",
    "COS_M3        = math.cos(m3_rad)\n",
    "COS_M4        = math.cos(m4_rad)\n",
    "COS_M5        = math.cos(m5_rad)\n",
    "COS_M6        = math.cos(m6_rad)\n",
    "COS_OFF_RX    = math.cos(off_Rx)\n",
    "COS_OFF_RY    = math.cos(off_Ry)\n",
    "COS_OFF_RZ    = math.cos(off_Rz)\n",
    "SIN_OFF_RX    = math.sin(off_Rx)\n",
    "SIN_OFF_RY    = math.sin(off_Ry)\n",
    "SIN_OFF_RZ    = math.sin(off_Rz)\n",
    "SIN_M2_M3     = math.sin(m2_rad+m3_rad)\n",
    "COS_M2_M3     = math.cos(m2_rad+m3_rad)\n",
    "SIN_M1_OFF_RZ = math.sin(m1_rad-off_Rz)\n",
    "COS_M1_OFF_RZ = math.cos(m1_rad-off_Rz)\n",
    "\n",
    "# Listas das equações e resultados\n",
    "forwards = [Tx, Ty, Tz, Rx, Ry, Rz]\n",
    "results_for = [0, 0, 0, 0, 0, 0]\n",
    "\n",
    "# Execução da simulação\n",
    "for i in range(5):\n",
    "    results_for[i] = sym.N(forwards[i].subs([(sym_M1,m1_rad),(sym_M2,m2_rad),(sym_M3,m3_rad),(sym_M4,m4_rad),(sym_M5,m5_rad),(sym_M6,m6_rad),(sym_d1,d1),(sym_d2,d2),(sym_d3,d3),(sym_d4,d4),(sym_d5,d5),(sym_d6,d6),(sym_d7,d7),(sym_off_Tx,off_Tx),(sym_off_Ty,off_Ty),(sym_off_Tz,off_Tz),(sym_off_Rx,off_Rx),(sym_off_Ry,off_Ry),(sym_off_Rz,off_Rz),(sym_SIN_M2,SIN_M2),(sym_SIN_M3,SIN_M3),(sym_SIN_M4,SIN_M4),(sym_SIN_M5,SIN_M5),(sym_SIN_M6,SIN_M6),(sym_COS_M2,COS_M2),(sym_COS_M3,COS_M3),(sym_COS_M4,COS_M4),(sym_COS_M5,COS_M5),(sym_COS_M6,COS_M6),(sym_COS_OFF_RX,COS_OFF_RX),(sym_COS_OFF_RY,COS_OFF_RY),(sym_COS_OFF_RZ,COS_OFF_RZ),(sym_SIN_OFF_RX,SIN_OFF_RX),(sym_SIN_OFF_RY,SIN_OFF_RY),(sym_SIN_OFF_RZ,SIN_OFF_RZ),(sym_SIN_M2_M3,SIN_M2_M3),(sym_COS_M2_M3,COS_M2_M3),(sym_SIN_M1_OFF_RZ,SIN_M1_OFF_RZ),(sym_COS_M1_OFF_RZ,COS_M1_OFF_RZ)]))\n",
    "\n",
    "# Print das translações calculadas\n",
    "print('Tx: %.2f' % (results_for[0]))\n",
    "print('Ty: %.2f' % (results_for[1]))\n",
    "print('Tz: %.2f' % (results_for[2]))\n",
    "print('Rx: %.2f' % (mpmath.degrees(results_for[3])))\n",
    "print('Ry: %.2f' % (mpmath.degrees(results_for[4])))\n",
    "print('Rz: %.2f' % (mpmath.degrees(results_for[5])))"
   ]
  },
  {
   "cell_type": "markdown",
   "metadata": {},
   "source": [
    "# 3.0 Cinemática Inversa\n",
    "\n",
    "### 3.1 Matriz Jacobiana"
   ]
  },
  {
   "cell_type": "code",
   "execution_count": 11,
   "metadata": {},
   "outputs": [],
   "source": [
    "# Decalaração dos elementos da Matriz Jacobiana\n",
    "equations = sym.Matrix([X, Y, Z, Rx_Raw+sym_Rx, Ry_Raw+sym_Ry, Rz_Raw+sym_Rz])\n",
    "motors = sym.Matrix([sym_M1, sym_M2, sym_M3, sym_M4, sym_M5, sym_M6])\n",
    "\n",
    "# Construção da Matriz Jacobiana\n",
    "J = equations.jacobian(motors)"
   ]
  },
  {
   "cell_type": "code",
   "execution_count": 12,
   "metadata": {},
   "outputs": [],
   "source": [
    "# Substituição dos cálculos de seno e cosseno por variáveis com valores já calculados (otimização)\n",
    "J_subs = sym.Matrix(sym.zeros(6,6))\n",
    "for i in range(len(J)):\n",
    "    J_subs[i] = J[i].subs([(sym.sin(sym_M2),sym_SIN_M2),(sym.sin(sym_M3),sym_SIN_M3),(sym.sin(sym_M4),sym_SIN_M4),(sym.sin(sym_M5),sym_SIN_M5),(sym.sin(sym_M6),sym_SIN_M6),(sym.cos(sym_M2),sym_COS_M2),(sym.cos(sym_M3),sym_COS_M3),(sym.cos(sym_M4),sym_COS_M4),(sym.cos(sym_M5),sym_COS_M5),(sym.cos(sym_M6),sym_COS_M6),(sym.cos(sym_off_Rx),sym_COS_OFF_RX),(sym.cos(sym_off_Ry),sym_COS_OFF_RY),(sym.cos(sym_off_Rz),sym_COS_OFF_RZ),(sym.sin(sym_off_Rx),sym_SIN_OFF_RX),(sym.sin(sym_off_Ry),sym_SIN_OFF_RY),(sym.sin(sym_off_Rz),sym_SIN_OFF_RZ),(sym.sin(sym_M2+sym_M3),sym_SIN_M2_M3),(sym.cos(sym_M2+sym_M3),sym_COS_M2_M3),(sym.sin(sym_M1-sym_off_Rz),sym_SIN_M1_OFF_RZ),(sym.cos(sym_M1-sym_off_Rz),sym_COS_M1_OFF_RZ)])"
   ]
  },
  {
   "cell_type": "markdown",
   "metadata": {},
   "source": [
    "### 3.2 Iteração pelo método de Newton-Raphson para aproximação das equações de Cinemática Inversa"
   ]
  },
  {
   "cell_type": "code",
   "execution_count": 24,
   "metadata": {},
   "outputs": [
    {
     "ename": "KeyboardInterrupt",
     "evalue": "",
     "output_type": "error",
     "traceback": [
      "\u001b[1;31m---------------------------------------------------------------------------\u001b[0m",
      "\u001b[1;31mKeyboardInterrupt\u001b[0m                         Traceback (most recent call last)",
      "\u001b[1;32m<ipython-input-24-5523641c5f70>\u001b[0m in \u001b[0;36m<module>\u001b[1;34m\u001b[0m\n\u001b[0;32m      1\u001b[0m \u001b[1;31m# Inversão da Matriz Jacobiana\u001b[0m\u001b[1;33m\u001b[0m\u001b[1;33m\u001b[0m\u001b[0m\n\u001b[1;32m----> 2\u001b[1;33m \u001b[0mJ_inv\u001b[0m \u001b[1;33m=\u001b[0m \u001b[0mJ_subs\u001b[0m\u001b[1;33m.\u001b[0m\u001b[0minv\u001b[0m\u001b[1;33m(\u001b[0m\u001b[1;33m)\u001b[0m\u001b[1;33m\u001b[0m\u001b[1;33m\u001b[0m\u001b[0m\n\u001b[0m",
      "\u001b[1;32md:\\python\\python39\\lib\\site-packages\\sympy\\matrices\\matrices.py\u001b[0m in \u001b[0;36minv\u001b[1;34m(self, method, iszerofunc, try_block_diag)\u001b[0m\n\u001b[0;32m   2157\u001b[0m \u001b[1;33m\u001b[0m\u001b[0m\n\u001b[0;32m   2158\u001b[0m     \u001b[1;32mdef\u001b[0m \u001b[0minv\u001b[0m\u001b[1;33m(\u001b[0m\u001b[0mself\u001b[0m\u001b[1;33m,\u001b[0m \u001b[0mmethod\u001b[0m\u001b[1;33m=\u001b[0m\u001b[1;32mNone\u001b[0m\u001b[1;33m,\u001b[0m \u001b[0miszerofunc\u001b[0m\u001b[1;33m=\u001b[0m\u001b[0m_iszero\u001b[0m\u001b[1;33m,\u001b[0m \u001b[0mtry_block_diag\u001b[0m\u001b[1;33m=\u001b[0m\u001b[1;32mFalse\u001b[0m\u001b[1;33m)\u001b[0m\u001b[1;33m:\u001b[0m\u001b[1;33m\u001b[0m\u001b[1;33m\u001b[0m\u001b[0m\n\u001b[1;32m-> 2159\u001b[1;33m         return _inv(self, method=method, iszerofunc=iszerofunc,\n\u001b[0m\u001b[0;32m   2160\u001b[0m                 try_block_diag=try_block_diag)\n\u001b[0;32m   2161\u001b[0m \u001b[1;33m\u001b[0m\u001b[0m\n",
      "\u001b[1;32md:\\python\\python39\\lib\\site-packages\\sympy\\matrices\\inverse.py\u001b[0m in \u001b[0;36m_inv\u001b[1;34m(M, method, iszerofunc, try_block_diag)\u001b[0m\n\u001b[0;32m    457\u001b[0m \u001b[1;33m\u001b[0m\u001b[0m\n\u001b[0;32m    458\u001b[0m     \u001b[1;32mif\u001b[0m \u001b[0mmethod\u001b[0m \u001b[1;33m==\u001b[0m \u001b[1;34m\"GE\"\u001b[0m\u001b[1;33m:\u001b[0m\u001b[1;33m\u001b[0m\u001b[1;33m\u001b[0m\u001b[0m\n\u001b[1;32m--> 459\u001b[1;33m         \u001b[0mrv\u001b[0m \u001b[1;33m=\u001b[0m \u001b[0mM\u001b[0m\u001b[1;33m.\u001b[0m\u001b[0minverse_GE\u001b[0m\u001b[1;33m(\u001b[0m\u001b[0miszerofunc\u001b[0m\u001b[1;33m=\u001b[0m\u001b[0miszerofunc\u001b[0m\u001b[1;33m)\u001b[0m\u001b[1;33m\u001b[0m\u001b[1;33m\u001b[0m\u001b[0m\n\u001b[0m\u001b[0;32m    460\u001b[0m     \u001b[1;32melif\u001b[0m \u001b[0mmethod\u001b[0m \u001b[1;33m==\u001b[0m \u001b[1;34m\"LU\"\u001b[0m\u001b[1;33m:\u001b[0m\u001b[1;33m\u001b[0m\u001b[1;33m\u001b[0m\u001b[0m\n\u001b[0;32m    461\u001b[0m         \u001b[0mrv\u001b[0m \u001b[1;33m=\u001b[0m \u001b[0mM\u001b[0m\u001b[1;33m.\u001b[0m\u001b[0minverse_LU\u001b[0m\u001b[1;33m(\u001b[0m\u001b[0miszerofunc\u001b[0m\u001b[1;33m=\u001b[0m\u001b[0miszerofunc\u001b[0m\u001b[1;33m)\u001b[0m\u001b[1;33m\u001b[0m\u001b[1;33m\u001b[0m\u001b[0m\n",
      "\u001b[1;32md:\\python\\python39\\lib\\site-packages\\sympy\\matrices\\matrices.py\u001b[0m in \u001b[0;36minverse_GE\u001b[1;34m(self, iszerofunc)\u001b[0m\n\u001b[0;32m   2142\u001b[0m \u001b[1;33m\u001b[0m\u001b[0m\n\u001b[0;32m   2143\u001b[0m     \u001b[1;32mdef\u001b[0m \u001b[0minverse_GE\u001b[0m\u001b[1;33m(\u001b[0m\u001b[0mself\u001b[0m\u001b[1;33m,\u001b[0m \u001b[0miszerofunc\u001b[0m\u001b[1;33m=\u001b[0m\u001b[0m_iszero\u001b[0m\u001b[1;33m)\u001b[0m\u001b[1;33m:\u001b[0m\u001b[1;33m\u001b[0m\u001b[1;33m\u001b[0m\u001b[0m\n\u001b[1;32m-> 2144\u001b[1;33m         \u001b[1;32mreturn\u001b[0m \u001b[0m_inv_GE\u001b[0m\u001b[1;33m(\u001b[0m\u001b[0mself\u001b[0m\u001b[1;33m,\u001b[0m \u001b[0miszerofunc\u001b[0m\u001b[1;33m=\u001b[0m\u001b[0miszerofunc\u001b[0m\u001b[1;33m)\u001b[0m\u001b[1;33m\u001b[0m\u001b[1;33m\u001b[0m\u001b[0m\n\u001b[0m\u001b[0;32m   2145\u001b[0m \u001b[1;33m\u001b[0m\u001b[0m\n\u001b[0;32m   2146\u001b[0m     \u001b[1;32mdef\u001b[0m \u001b[0minverse_LU\u001b[0m\u001b[1;33m(\u001b[0m\u001b[0mself\u001b[0m\u001b[1;33m,\u001b[0m \u001b[0miszerofunc\u001b[0m\u001b[1;33m=\u001b[0m\u001b[0m_iszero\u001b[0m\u001b[1;33m)\u001b[0m\u001b[1;33m:\u001b[0m\u001b[1;33m\u001b[0m\u001b[1;33m\u001b[0m\u001b[0m\n",
      "\u001b[1;32md:\\python\\python39\\lib\\site-packages\\sympy\\matrices\\inverse.py\u001b[0m in \u001b[0;36m_inv_GE\u001b[1;34m(M, iszerofunc)\u001b[0m\n\u001b[0;32m    240\u001b[0m \u001b[1;33m\u001b[0m\u001b[0m\n\u001b[0;32m    241\u001b[0m     \u001b[0mbig\u001b[0m \u001b[1;33m=\u001b[0m \u001b[0mMatrix\u001b[0m\u001b[1;33m.\u001b[0m\u001b[0mhstack\u001b[0m\u001b[1;33m(\u001b[0m\u001b[0mM\u001b[0m\u001b[1;33m.\u001b[0m\u001b[0mas_mutable\u001b[0m\u001b[1;33m(\u001b[0m\u001b[1;33m)\u001b[0m\u001b[1;33m,\u001b[0m \u001b[0mMatrix\u001b[0m\u001b[1;33m.\u001b[0m\u001b[0meye\u001b[0m\u001b[1;33m(\u001b[0m\u001b[0mM\u001b[0m\u001b[1;33m.\u001b[0m\u001b[0mrows\u001b[0m\u001b[1;33m)\u001b[0m\u001b[1;33m)\u001b[0m\u001b[1;33m\u001b[0m\u001b[1;33m\u001b[0m\u001b[0m\n\u001b[1;32m--> 242\u001b[1;33m     \u001b[0mred\u001b[0m \u001b[1;33m=\u001b[0m \u001b[0mbig\u001b[0m\u001b[1;33m.\u001b[0m\u001b[0mrref\u001b[0m\u001b[1;33m(\u001b[0m\u001b[0miszerofunc\u001b[0m\u001b[1;33m=\u001b[0m\u001b[0miszerofunc\u001b[0m\u001b[1;33m,\u001b[0m \u001b[0msimplify\u001b[0m\u001b[1;33m=\u001b[0m\u001b[1;32mTrue\u001b[0m\u001b[1;33m)\u001b[0m\u001b[1;33m[\u001b[0m\u001b[1;36m0\u001b[0m\u001b[1;33m]\u001b[0m\u001b[1;33m\u001b[0m\u001b[1;33m\u001b[0m\u001b[0m\n\u001b[0m\u001b[0;32m    243\u001b[0m \u001b[1;33m\u001b[0m\u001b[0m\n\u001b[0;32m    244\u001b[0m     \u001b[1;32mif\u001b[0m \u001b[0many\u001b[0m\u001b[1;33m(\u001b[0m\u001b[0miszerofunc\u001b[0m\u001b[1;33m(\u001b[0m\u001b[0mred\u001b[0m\u001b[1;33m[\u001b[0m\u001b[0mj\u001b[0m\u001b[1;33m,\u001b[0m \u001b[0mj\u001b[0m\u001b[1;33m]\u001b[0m\u001b[1;33m)\u001b[0m \u001b[1;32mfor\u001b[0m \u001b[0mj\u001b[0m \u001b[1;32min\u001b[0m \u001b[0mrange\u001b[0m\u001b[1;33m(\u001b[0m\u001b[0mred\u001b[0m\u001b[1;33m.\u001b[0m\u001b[0mrows\u001b[0m\u001b[1;33m)\u001b[0m\u001b[1;33m)\u001b[0m\u001b[1;33m:\u001b[0m\u001b[1;33m\u001b[0m\u001b[1;33m\u001b[0m\u001b[0m\n",
      "\u001b[1;32md:\\python\\python39\\lib\\site-packages\\sympy\\matrices\\matrices.py\u001b[0m in \u001b[0;36mrref\u001b[1;34m(self, iszerofunc, simplify, pivots, normalize_last)\u001b[0m\n\u001b[0;32m    162\u001b[0m     def rref(self, iszerofunc=_iszero, simplify=False, pivots=True,\n\u001b[0;32m    163\u001b[0m             normalize_last=True):\n\u001b[1;32m--> 164\u001b[1;33m         return _rref(self, iszerofunc=iszerofunc, simplify=simplify,\n\u001b[0m\u001b[0;32m    165\u001b[0m             pivots=pivots, normalize_last=normalize_last)\n\u001b[0;32m    166\u001b[0m \u001b[1;33m\u001b[0m\u001b[0m\n",
      "\u001b[1;32md:\\python\\python39\\lib\\site-packages\\sympy\\matrices\\reductions.py\u001b[0m in \u001b[0;36m_rref\u001b[1;34m(M, iszerofunc, simplify, pivots, normalize_last)\u001b[0m\n\u001b[0;32m    303\u001b[0m     \u001b[0msimpfunc\u001b[0m \u001b[1;33m=\u001b[0m \u001b[0msimplify\u001b[0m \u001b[1;32mif\u001b[0m \u001b[0misinstance\u001b[0m\u001b[1;33m(\u001b[0m\u001b[0msimplify\u001b[0m\u001b[1;33m,\u001b[0m \u001b[0mFunctionType\u001b[0m\u001b[1;33m)\u001b[0m \u001b[1;32melse\u001b[0m \u001b[0m_simplify\u001b[0m\u001b[1;33m\u001b[0m\u001b[1;33m\u001b[0m\u001b[0m\n\u001b[0;32m    304\u001b[0m \u001b[1;33m\u001b[0m\u001b[0m\n\u001b[1;32m--> 305\u001b[1;33m     mat, pivot_cols, _ = _row_reduce(M, iszerofunc, simpfunc,\n\u001b[0m\u001b[0;32m    306\u001b[0m             normalize_last, normalize=True, zero_above=True)\n\u001b[0;32m    307\u001b[0m \u001b[1;33m\u001b[0m\u001b[0m\n",
      "\u001b[1;32md:\\python\\python39\\lib\\site-packages\\sympy\\matrices\\reductions.py\u001b[0m in \u001b[0;36m_row_reduce\u001b[1;34m(M, iszerofunc, simpfunc, normalize_last, normalize, zero_above)\u001b[0m\n\u001b[0;32m    125\u001b[0m                 normalize=True, zero_above=True):\n\u001b[0;32m    126\u001b[0m \u001b[1;33m\u001b[0m\u001b[0m\n\u001b[1;32m--> 127\u001b[1;33m     mat, pivot_cols, swaps = _row_reduce_list(list(M), M.rows, M.cols, M.one,\n\u001b[0m\u001b[0;32m    128\u001b[0m             \u001b[0miszerofunc\u001b[0m\u001b[1;33m,\u001b[0m \u001b[0msimpfunc\u001b[0m\u001b[1;33m,\u001b[0m \u001b[0mnormalize_last\u001b[0m\u001b[1;33m=\u001b[0m\u001b[0mnormalize_last\u001b[0m\u001b[1;33m,\u001b[0m\u001b[1;33m\u001b[0m\u001b[1;33m\u001b[0m\u001b[0m\n\u001b[0;32m    129\u001b[0m             normalize=normalize, zero_above=zero_above)\n",
      "\u001b[1;32md:\\python\\python39\\lib\\site-packages\\sympy\\matrices\\reductions.py\u001b[0m in \u001b[0;36m_row_reduce_list\u001b[1;34m(mat, rows, cols, one, iszerofunc, simpfunc, normalize_last, normalize, zero_above)\u001b[0m\n\u001b[0;32m    107\u001b[0m                 \u001b[1;32mcontinue\u001b[0m\u001b[1;33m\u001b[0m\u001b[1;33m\u001b[0m\u001b[0m\n\u001b[0;32m    108\u001b[0m \u001b[1;33m\u001b[0m\u001b[0m\n\u001b[1;32m--> 109\u001b[1;33m             \u001b[0mcross_cancel\u001b[0m\u001b[1;33m(\u001b[0m\u001b[0mpivot_val\u001b[0m\u001b[1;33m,\u001b[0m \u001b[0mrow\u001b[0m\u001b[1;33m,\u001b[0m \u001b[0mval\u001b[0m\u001b[1;33m,\u001b[0m \u001b[0mpiv_row\u001b[0m\u001b[1;33m)\u001b[0m\u001b[1;33m\u001b[0m\u001b[1;33m\u001b[0m\u001b[0m\n\u001b[0m\u001b[0;32m    110\u001b[0m         \u001b[0mpiv_row\u001b[0m \u001b[1;33m+=\u001b[0m \u001b[1;36m1\u001b[0m\u001b[1;33m\u001b[0m\u001b[1;33m\u001b[0m\u001b[0m\n\u001b[0;32m    111\u001b[0m \u001b[1;33m\u001b[0m\u001b[0m\n",
      "\u001b[1;32md:\\python\\python39\\lib\\site-packages\\sympy\\matrices\\reductions.py\u001b[0m in \u001b[0;36mcross_cancel\u001b[1;34m(a, i, b, j)\u001b[0m\n\u001b[0;32m     56\u001b[0m         \u001b[0mq\u001b[0m \u001b[1;33m=\u001b[0m \u001b[1;33m(\u001b[0m\u001b[0mj\u001b[0m \u001b[1;33m-\u001b[0m \u001b[0mi\u001b[0m\u001b[1;33m)\u001b[0m\u001b[1;33m*\u001b[0m\u001b[0mcols\u001b[0m\u001b[1;33m\u001b[0m\u001b[1;33m\u001b[0m\u001b[0m\n\u001b[0;32m     57\u001b[0m         \u001b[1;32mfor\u001b[0m \u001b[0mp\u001b[0m \u001b[1;32min\u001b[0m \u001b[0mrange\u001b[0m\u001b[1;33m(\u001b[0m\u001b[0mi\u001b[0m\u001b[1;33m*\u001b[0m\u001b[0mcols\u001b[0m\u001b[1;33m,\u001b[0m \u001b[1;33m(\u001b[0m\u001b[0mi\u001b[0m \u001b[1;33m+\u001b[0m \u001b[1;36m1\u001b[0m\u001b[1;33m)\u001b[0m\u001b[1;33m*\u001b[0m\u001b[0mcols\u001b[0m\u001b[1;33m)\u001b[0m\u001b[1;33m:\u001b[0m\u001b[1;33m\u001b[0m\u001b[1;33m\u001b[0m\u001b[0m\n\u001b[1;32m---> 58\u001b[1;33m             \u001b[0mmat\u001b[0m\u001b[1;33m[\u001b[0m\u001b[0mp\u001b[0m\u001b[1;33m]\u001b[0m \u001b[1;33m=\u001b[0m \u001b[0misimp\u001b[0m\u001b[1;33m(\u001b[0m\u001b[0ma\u001b[0m\u001b[1;33m*\u001b[0m\u001b[0mmat\u001b[0m\u001b[1;33m[\u001b[0m\u001b[0mp\u001b[0m\u001b[1;33m]\u001b[0m \u001b[1;33m-\u001b[0m \u001b[0mb\u001b[0m\u001b[1;33m*\u001b[0m\u001b[0mmat\u001b[0m\u001b[1;33m[\u001b[0m\u001b[0mp\u001b[0m \u001b[1;33m+\u001b[0m \u001b[0mq\u001b[0m\u001b[1;33m]\u001b[0m\u001b[1;33m)\u001b[0m\u001b[1;33m\u001b[0m\u001b[1;33m\u001b[0m\u001b[0m\n\u001b[0m\u001b[0;32m     59\u001b[0m \u001b[1;33m\u001b[0m\u001b[0m\n\u001b[0;32m     60\u001b[0m     \u001b[0misimp\u001b[0m \u001b[1;33m=\u001b[0m \u001b[0m_get_intermediate_simp\u001b[0m\u001b[1;33m(\u001b[0m\u001b[0m_dotprodsimp\u001b[0m\u001b[1;33m)\u001b[0m\u001b[1;33m\u001b[0m\u001b[1;33m\u001b[0m\u001b[0m\n",
      "\u001b[1;32md:\\python\\python39\\lib\\site-packages\\sympy\\simplify\\simplify.py\u001b[0m in \u001b[0;36mdotprodsimp\u001b[1;34m(expr, withsimp)\u001b[0m\n\u001b[0;32m   2111\u001b[0m \u001b[1;33m\u001b[0m\u001b[0m\n\u001b[0;32m   2112\u001b[0m                 \u001b[1;32mif\u001b[0m \u001b[0mexpr2\u001b[0m \u001b[1;32mis\u001b[0m \u001b[0mexpr\u001b[0m \u001b[1;32mor\u001b[0m \u001b[0mcount_ops_alg\u001b[0m\u001b[1;33m(\u001b[0m\u001b[0mexpr2\u001b[0m\u001b[1;33m)\u001b[0m\u001b[1;33m[\u001b[0m\u001b[1;36m0\u001b[0m\u001b[1;33m]\u001b[0m \u001b[1;33m>=\u001b[0m \u001b[1;36m6\u001b[0m\u001b[1;33m:\u001b[0m \u001b[1;31m# check again after substitution\u001b[0m\u001b[1;33m\u001b[0m\u001b[1;33m\u001b[0m\u001b[0m\n\u001b[1;32m-> 2113\u001b[1;33m                     \u001b[0mexpr3\u001b[0m \u001b[1;33m=\u001b[0m \u001b[0mcancel\u001b[0m\u001b[1;33m(\u001b[0m\u001b[0mexpr2\u001b[0m\u001b[1;33m)\u001b[0m\u001b[1;33m\u001b[0m\u001b[1;33m\u001b[0m\u001b[0m\n\u001b[0m\u001b[0;32m   2114\u001b[0m \u001b[1;33m\u001b[0m\u001b[0m\n\u001b[0;32m   2115\u001b[0m                     \u001b[1;32mif\u001b[0m \u001b[0mexpr3\u001b[0m \u001b[1;33m!=\u001b[0m \u001b[0mexpr2\u001b[0m\u001b[1;33m:\u001b[0m\u001b[1;33m\u001b[0m\u001b[1;33m\u001b[0m\u001b[0m\n",
      "\u001b[1;32md:\\python\\python39\\lib\\site-packages\\sympy\\polys\\polytools.py\u001b[0m in \u001b[0;36mcancel\u001b[1;34m(f, *gens, **args)\u001b[0m\n\u001b[0;32m   6666\u001b[0m         \u001b[1;32mif\u001b[0m \u001b[0mf\u001b[0m\u001b[1;33m.\u001b[0m\u001b[0mis_Number\u001b[0m \u001b[1;32mor\u001b[0m \u001b[0misinstance\u001b[0m\u001b[1;33m(\u001b[0m\u001b[0mf\u001b[0m\u001b[1;33m,\u001b[0m \u001b[0mRelational\u001b[0m\u001b[1;33m)\u001b[0m \u001b[1;32mor\u001b[0m \u001b[1;32mnot\u001b[0m \u001b[0misinstance\u001b[0m\u001b[1;33m(\u001b[0m\u001b[0mf\u001b[0m\u001b[1;33m,\u001b[0m \u001b[0mExpr\u001b[0m\u001b[1;33m)\u001b[0m\u001b[1;33m:\u001b[0m\u001b[1;33m\u001b[0m\u001b[1;33m\u001b[0m\u001b[0m\n\u001b[0;32m   6667\u001b[0m             \u001b[1;32mreturn\u001b[0m \u001b[0mf\u001b[0m\u001b[1;33m\u001b[0m\u001b[1;33m\u001b[0m\u001b[0m\n\u001b[1;32m-> 6668\u001b[1;33m         \u001b[0mf\u001b[0m \u001b[1;33m=\u001b[0m \u001b[0mfactor_terms\u001b[0m\u001b[1;33m(\u001b[0m\u001b[0mf\u001b[0m\u001b[1;33m,\u001b[0m \u001b[0mradical\u001b[0m\u001b[1;33m=\u001b[0m\u001b[1;32mTrue\u001b[0m\u001b[1;33m)\u001b[0m\u001b[1;33m\u001b[0m\u001b[1;33m\u001b[0m\u001b[0m\n\u001b[0m\u001b[0;32m   6669\u001b[0m         \u001b[0mp\u001b[0m\u001b[1;33m,\u001b[0m \u001b[0mq\u001b[0m \u001b[1;33m=\u001b[0m \u001b[0mf\u001b[0m\u001b[1;33m.\u001b[0m\u001b[0mas_numer_denom\u001b[0m\u001b[1;33m(\u001b[0m\u001b[1;33m)\u001b[0m\u001b[1;33m\u001b[0m\u001b[1;33m\u001b[0m\u001b[0m\n\u001b[0;32m   6670\u001b[0m \u001b[1;33m\u001b[0m\u001b[0m\n",
      "\u001b[1;32md:\\python\\python39\\lib\\site-packages\\sympy\\core\\exprtools.py\u001b[0m in \u001b[0;36mfactor_terms\u001b[1;34m(expr, radical, clear, fraction, sign)\u001b[0m\n\u001b[0;32m   1272\u001b[0m         \u001b[1;32mreturn\u001b[0m \u001b[0mrv\u001b[0m\u001b[1;33m\u001b[0m\u001b[1;33m\u001b[0m\u001b[0m\n\u001b[0;32m   1273\u001b[0m     \u001b[0mexpr\u001b[0m \u001b[1;33m=\u001b[0m \u001b[0msympify\u001b[0m\u001b[1;33m(\u001b[0m\u001b[0mexpr\u001b[0m\u001b[1;33m)\u001b[0m\u001b[1;33m\u001b[0m\u001b[1;33m\u001b[0m\u001b[0m\n\u001b[1;32m-> 1274\u001b[1;33m     \u001b[1;32mreturn\u001b[0m \u001b[0mdo\u001b[0m\u001b[1;33m(\u001b[0m\u001b[0mexpr\u001b[0m\u001b[1;33m)\u001b[0m\u001b[1;33m\u001b[0m\u001b[1;33m\u001b[0m\u001b[0m\n\u001b[0m\u001b[0;32m   1275\u001b[0m \u001b[1;33m\u001b[0m\u001b[0m\n\u001b[0;32m   1276\u001b[0m \u001b[1;33m\u001b[0m\u001b[0m\n",
      "\u001b[1;32md:\\python\\python39\\lib\\site-packages\\sympy\\core\\exprtools.py\u001b[0m in \u001b[0;36mdo\u001b[1;34m(expr)\u001b[0m\n\u001b[0;32m   1247\u001b[0m         \u001b[0mcont\u001b[0m\u001b[1;33m,\u001b[0m \u001b[0mp\u001b[0m \u001b[1;33m=\u001b[0m \u001b[0mexpr\u001b[0m\u001b[1;33m.\u001b[0m\u001b[0mas_content_primitive\u001b[0m\u001b[1;33m(\u001b[0m\u001b[0mradical\u001b[0m\u001b[1;33m=\u001b[0m\u001b[0mradical\u001b[0m\u001b[1;33m,\u001b[0m \u001b[0mclear\u001b[0m\u001b[1;33m=\u001b[0m\u001b[0mclear\u001b[0m\u001b[1;33m)\u001b[0m\u001b[1;33m\u001b[0m\u001b[1;33m\u001b[0m\u001b[0m\n\u001b[0;32m   1248\u001b[0m         \u001b[1;32mif\u001b[0m \u001b[0mp\u001b[0m\u001b[1;33m.\u001b[0m\u001b[0mis_Add\u001b[0m\u001b[1;33m:\u001b[0m\u001b[1;33m\u001b[0m\u001b[1;33m\u001b[0m\u001b[0m\n\u001b[1;32m-> 1249\u001b[1;33m             \u001b[0mlist_args\u001b[0m \u001b[1;33m=\u001b[0m \u001b[1;33m[\u001b[0m\u001b[0mdo\u001b[0m\u001b[1;33m(\u001b[0m\u001b[0ma\u001b[0m\u001b[1;33m)\u001b[0m \u001b[1;32mfor\u001b[0m \u001b[0ma\u001b[0m \u001b[1;32min\u001b[0m \u001b[0mAdd\u001b[0m\u001b[1;33m.\u001b[0m\u001b[0mmake_args\u001b[0m\u001b[1;33m(\u001b[0m\u001b[0mp\u001b[0m\u001b[1;33m)\u001b[0m\u001b[1;33m]\u001b[0m\u001b[1;33m\u001b[0m\u001b[1;33m\u001b[0m\u001b[0m\n\u001b[0m\u001b[0;32m   1250\u001b[0m             \u001b[1;31m# get a common negative (if there) which gcd_terms does not remove\u001b[0m\u001b[1;33m\u001b[0m\u001b[1;33m\u001b[0m\u001b[0m\n\u001b[0;32m   1251\u001b[0m             if all(a.as_coeff_Mul()[0].extract_multiplicatively(-1) is not None\n",
      "\u001b[1;32md:\\python\\python39\\lib\\site-packages\\sympy\\core\\exprtools.py\u001b[0m in \u001b[0;36m<listcomp>\u001b[1;34m(.0)\u001b[0m\n\u001b[0;32m   1247\u001b[0m         \u001b[0mcont\u001b[0m\u001b[1;33m,\u001b[0m \u001b[0mp\u001b[0m \u001b[1;33m=\u001b[0m \u001b[0mexpr\u001b[0m\u001b[1;33m.\u001b[0m\u001b[0mas_content_primitive\u001b[0m\u001b[1;33m(\u001b[0m\u001b[0mradical\u001b[0m\u001b[1;33m=\u001b[0m\u001b[0mradical\u001b[0m\u001b[1;33m,\u001b[0m \u001b[0mclear\u001b[0m\u001b[1;33m=\u001b[0m\u001b[0mclear\u001b[0m\u001b[1;33m)\u001b[0m\u001b[1;33m\u001b[0m\u001b[1;33m\u001b[0m\u001b[0m\n\u001b[0;32m   1248\u001b[0m         \u001b[1;32mif\u001b[0m \u001b[0mp\u001b[0m\u001b[1;33m.\u001b[0m\u001b[0mis_Add\u001b[0m\u001b[1;33m:\u001b[0m\u001b[1;33m\u001b[0m\u001b[1;33m\u001b[0m\u001b[0m\n\u001b[1;32m-> 1249\u001b[1;33m             \u001b[0mlist_args\u001b[0m \u001b[1;33m=\u001b[0m \u001b[1;33m[\u001b[0m\u001b[0mdo\u001b[0m\u001b[1;33m(\u001b[0m\u001b[0ma\u001b[0m\u001b[1;33m)\u001b[0m \u001b[1;32mfor\u001b[0m \u001b[0ma\u001b[0m \u001b[1;32min\u001b[0m \u001b[0mAdd\u001b[0m\u001b[1;33m.\u001b[0m\u001b[0mmake_args\u001b[0m\u001b[1;33m(\u001b[0m\u001b[0mp\u001b[0m\u001b[1;33m)\u001b[0m\u001b[1;33m]\u001b[0m\u001b[1;33m\u001b[0m\u001b[1;33m\u001b[0m\u001b[0m\n\u001b[0m\u001b[0;32m   1250\u001b[0m             \u001b[1;31m# get a common negative (if there) which gcd_terms does not remove\u001b[0m\u001b[1;33m\u001b[0m\u001b[1;33m\u001b[0m\u001b[0m\n\u001b[0;32m   1251\u001b[0m             if all(a.as_coeff_Mul()[0].extract_multiplicatively(-1) is not None\n",
      "\u001b[1;32md:\\python\\python39\\lib\\site-packages\\sympy\\core\\exprtools.py\u001b[0m in \u001b[0;36mdo\u001b[1;34m(expr)\u001b[0m\n\u001b[0;32m   1268\u001b[0m         \u001b[1;32melif\u001b[0m \u001b[0mp\u001b[0m\u001b[1;33m.\u001b[0m\u001b[0margs\u001b[0m\u001b[1;33m:\u001b[0m\u001b[1;33m\u001b[0m\u001b[1;33m\u001b[0m\u001b[0m\n\u001b[0;32m   1269\u001b[0m             p = p.func(\n\u001b[1;32m-> 1270\u001b[1;33m                 *[do(a) for a in p.args])\n\u001b[0m\u001b[0;32m   1271\u001b[0m         \u001b[0mrv\u001b[0m \u001b[1;33m=\u001b[0m \u001b[0m_keep_coeff\u001b[0m\u001b[1;33m(\u001b[0m\u001b[0mcont\u001b[0m\u001b[1;33m,\u001b[0m \u001b[0mp\u001b[0m\u001b[1;33m,\u001b[0m \u001b[0mclear\u001b[0m\u001b[1;33m=\u001b[0m\u001b[0mclear\u001b[0m\u001b[1;33m,\u001b[0m \u001b[0msign\u001b[0m\u001b[1;33m=\u001b[0m\u001b[0msign\u001b[0m\u001b[1;33m)\u001b[0m\u001b[1;33m\u001b[0m\u001b[1;33m\u001b[0m\u001b[0m\n\u001b[0;32m   1272\u001b[0m         \u001b[1;32mreturn\u001b[0m \u001b[0mrv\u001b[0m\u001b[1;33m\u001b[0m\u001b[1;33m\u001b[0m\u001b[0m\n",
      "\u001b[1;32md:\\python\\python39\\lib\\site-packages\\sympy\\core\\exprtools.py\u001b[0m in \u001b[0;36m<listcomp>\u001b[1;34m(.0)\u001b[0m\n\u001b[0;32m   1268\u001b[0m         \u001b[1;32melif\u001b[0m \u001b[0mp\u001b[0m\u001b[1;33m.\u001b[0m\u001b[0margs\u001b[0m\u001b[1;33m:\u001b[0m\u001b[1;33m\u001b[0m\u001b[1;33m\u001b[0m\u001b[0m\n\u001b[0;32m   1269\u001b[0m             p = p.func(\n\u001b[1;32m-> 1270\u001b[1;33m                 *[do(a) for a in p.args])\n\u001b[0m\u001b[0;32m   1271\u001b[0m         \u001b[0mrv\u001b[0m \u001b[1;33m=\u001b[0m \u001b[0m_keep_coeff\u001b[0m\u001b[1;33m(\u001b[0m\u001b[0mcont\u001b[0m\u001b[1;33m,\u001b[0m \u001b[0mp\u001b[0m\u001b[1;33m,\u001b[0m \u001b[0mclear\u001b[0m\u001b[1;33m=\u001b[0m\u001b[0mclear\u001b[0m\u001b[1;33m,\u001b[0m \u001b[0msign\u001b[0m\u001b[1;33m=\u001b[0m\u001b[0msign\u001b[0m\u001b[1;33m)\u001b[0m\u001b[1;33m\u001b[0m\u001b[1;33m\u001b[0m\u001b[0m\n\u001b[0;32m   1272\u001b[0m         \u001b[1;32mreturn\u001b[0m \u001b[0mrv\u001b[0m\u001b[1;33m\u001b[0m\u001b[1;33m\u001b[0m\u001b[0m\n",
      "\u001b[1;32md:\\python\\python39\\lib\\site-packages\\sympy\\core\\exprtools.py\u001b[0m in \u001b[0;36mdo\u001b[1;34m(expr)\u001b[0m\n\u001b[0;32m   1235\u001b[0m                 \u001b[0mis_iterable\u001b[0m \u001b[1;32mor\u001b[0m \u001b[1;32mnot\u001b[0m \u001b[0mhasattr\u001b[0m\u001b[1;33m(\u001b[0m\u001b[0mexpr\u001b[0m\u001b[1;33m,\u001b[0m \u001b[1;34m'args_cnc'\u001b[0m\u001b[1;33m)\u001b[0m\u001b[1;33m:\u001b[0m\u001b[1;33m\u001b[0m\u001b[1;33m\u001b[0m\u001b[0m\n\u001b[0;32m   1236\u001b[0m             \u001b[0margs\u001b[0m \u001b[1;33m=\u001b[0m \u001b[0mexpr\u001b[0m\u001b[1;33m.\u001b[0m\u001b[0margs\u001b[0m\u001b[1;33m\u001b[0m\u001b[1;33m\u001b[0m\u001b[0m\n\u001b[1;32m-> 1237\u001b[1;33m             \u001b[0mnewargs\u001b[0m \u001b[1;33m=\u001b[0m \u001b[0mtuple\u001b[0m\u001b[1;33m(\u001b[0m\u001b[1;33m[\u001b[0m\u001b[0mdo\u001b[0m\u001b[1;33m(\u001b[0m\u001b[0mi\u001b[0m\u001b[1;33m)\u001b[0m \u001b[1;32mfor\u001b[0m \u001b[0mi\u001b[0m \u001b[1;32min\u001b[0m \u001b[0margs\u001b[0m\u001b[1;33m]\u001b[0m\u001b[1;33m)\u001b[0m\u001b[1;33m\u001b[0m\u001b[1;33m\u001b[0m\u001b[0m\n\u001b[0m\u001b[0;32m   1238\u001b[0m             \u001b[1;32mif\u001b[0m \u001b[0mnewargs\u001b[0m \u001b[1;33m==\u001b[0m \u001b[0margs\u001b[0m\u001b[1;33m:\u001b[0m\u001b[1;33m\u001b[0m\u001b[1;33m\u001b[0m\u001b[0m\n\u001b[0;32m   1239\u001b[0m                 \u001b[1;32mreturn\u001b[0m \u001b[0mexpr\u001b[0m\u001b[1;33m\u001b[0m\u001b[1;33m\u001b[0m\u001b[0m\n",
      "\u001b[1;32md:\\python\\python39\\lib\\site-packages\\sympy\\core\\exprtools.py\u001b[0m in \u001b[0;36m<listcomp>\u001b[1;34m(.0)\u001b[0m\n\u001b[0;32m   1235\u001b[0m                 \u001b[0mis_iterable\u001b[0m \u001b[1;32mor\u001b[0m \u001b[1;32mnot\u001b[0m \u001b[0mhasattr\u001b[0m\u001b[1;33m(\u001b[0m\u001b[0mexpr\u001b[0m\u001b[1;33m,\u001b[0m \u001b[1;34m'args_cnc'\u001b[0m\u001b[1;33m)\u001b[0m\u001b[1;33m:\u001b[0m\u001b[1;33m\u001b[0m\u001b[1;33m\u001b[0m\u001b[0m\n\u001b[0;32m   1236\u001b[0m             \u001b[0margs\u001b[0m \u001b[1;33m=\u001b[0m \u001b[0mexpr\u001b[0m\u001b[1;33m.\u001b[0m\u001b[0margs\u001b[0m\u001b[1;33m\u001b[0m\u001b[1;33m\u001b[0m\u001b[0m\n\u001b[1;32m-> 1237\u001b[1;33m             \u001b[0mnewargs\u001b[0m \u001b[1;33m=\u001b[0m \u001b[0mtuple\u001b[0m\u001b[1;33m(\u001b[0m\u001b[1;33m[\u001b[0m\u001b[0mdo\u001b[0m\u001b[1;33m(\u001b[0m\u001b[0mi\u001b[0m\u001b[1;33m)\u001b[0m \u001b[1;32mfor\u001b[0m \u001b[0mi\u001b[0m \u001b[1;32min\u001b[0m \u001b[0margs\u001b[0m\u001b[1;33m]\u001b[0m\u001b[1;33m)\u001b[0m\u001b[1;33m\u001b[0m\u001b[1;33m\u001b[0m\u001b[0m\n\u001b[0m\u001b[0;32m   1238\u001b[0m             \u001b[1;32mif\u001b[0m \u001b[0mnewargs\u001b[0m \u001b[1;33m==\u001b[0m \u001b[0margs\u001b[0m\u001b[1;33m:\u001b[0m\u001b[1;33m\u001b[0m\u001b[1;33m\u001b[0m\u001b[0m\n\u001b[0;32m   1239\u001b[0m                 \u001b[1;32mreturn\u001b[0m \u001b[0mexpr\u001b[0m\u001b[1;33m\u001b[0m\u001b[1;33m\u001b[0m\u001b[0m\n",
      "\u001b[1;32md:\\python\\python39\\lib\\site-packages\\sympy\\core\\exprtools.py\u001b[0m in \u001b[0;36mdo\u001b[1;34m(expr)\u001b[0m\n\u001b[0;32m   1247\u001b[0m         \u001b[0mcont\u001b[0m\u001b[1;33m,\u001b[0m \u001b[0mp\u001b[0m \u001b[1;33m=\u001b[0m \u001b[0mexpr\u001b[0m\u001b[1;33m.\u001b[0m\u001b[0mas_content_primitive\u001b[0m\u001b[1;33m(\u001b[0m\u001b[0mradical\u001b[0m\u001b[1;33m=\u001b[0m\u001b[0mradical\u001b[0m\u001b[1;33m,\u001b[0m \u001b[0mclear\u001b[0m\u001b[1;33m=\u001b[0m\u001b[0mclear\u001b[0m\u001b[1;33m)\u001b[0m\u001b[1;33m\u001b[0m\u001b[1;33m\u001b[0m\u001b[0m\n\u001b[0;32m   1248\u001b[0m         \u001b[1;32mif\u001b[0m \u001b[0mp\u001b[0m\u001b[1;33m.\u001b[0m\u001b[0mis_Add\u001b[0m\u001b[1;33m:\u001b[0m\u001b[1;33m\u001b[0m\u001b[1;33m\u001b[0m\u001b[0m\n\u001b[1;32m-> 1249\u001b[1;33m             \u001b[0mlist_args\u001b[0m \u001b[1;33m=\u001b[0m \u001b[1;33m[\u001b[0m\u001b[0mdo\u001b[0m\u001b[1;33m(\u001b[0m\u001b[0ma\u001b[0m\u001b[1;33m)\u001b[0m \u001b[1;32mfor\u001b[0m \u001b[0ma\u001b[0m \u001b[1;32min\u001b[0m \u001b[0mAdd\u001b[0m\u001b[1;33m.\u001b[0m\u001b[0mmake_args\u001b[0m\u001b[1;33m(\u001b[0m\u001b[0mp\u001b[0m\u001b[1;33m)\u001b[0m\u001b[1;33m]\u001b[0m\u001b[1;33m\u001b[0m\u001b[1;33m\u001b[0m\u001b[0m\n\u001b[0m\u001b[0;32m   1250\u001b[0m             \u001b[1;31m# get a common negative (if there) which gcd_terms does not remove\u001b[0m\u001b[1;33m\u001b[0m\u001b[1;33m\u001b[0m\u001b[0m\n\u001b[0;32m   1251\u001b[0m             if all(a.as_coeff_Mul()[0].extract_multiplicatively(-1) is not None\n",
      "\u001b[1;32md:\\python\\python39\\lib\\site-packages\\sympy\\core\\exprtools.py\u001b[0m in \u001b[0;36m<listcomp>\u001b[1;34m(.0)\u001b[0m\n\u001b[0;32m   1247\u001b[0m         \u001b[0mcont\u001b[0m\u001b[1;33m,\u001b[0m \u001b[0mp\u001b[0m \u001b[1;33m=\u001b[0m \u001b[0mexpr\u001b[0m\u001b[1;33m.\u001b[0m\u001b[0mas_content_primitive\u001b[0m\u001b[1;33m(\u001b[0m\u001b[0mradical\u001b[0m\u001b[1;33m=\u001b[0m\u001b[0mradical\u001b[0m\u001b[1;33m,\u001b[0m \u001b[0mclear\u001b[0m\u001b[1;33m=\u001b[0m\u001b[0mclear\u001b[0m\u001b[1;33m)\u001b[0m\u001b[1;33m\u001b[0m\u001b[1;33m\u001b[0m\u001b[0m\n\u001b[0;32m   1248\u001b[0m         \u001b[1;32mif\u001b[0m \u001b[0mp\u001b[0m\u001b[1;33m.\u001b[0m\u001b[0mis_Add\u001b[0m\u001b[1;33m:\u001b[0m\u001b[1;33m\u001b[0m\u001b[1;33m\u001b[0m\u001b[0m\n\u001b[1;32m-> 1249\u001b[1;33m             \u001b[0mlist_args\u001b[0m \u001b[1;33m=\u001b[0m \u001b[1;33m[\u001b[0m\u001b[0mdo\u001b[0m\u001b[1;33m(\u001b[0m\u001b[0ma\u001b[0m\u001b[1;33m)\u001b[0m \u001b[1;32mfor\u001b[0m \u001b[0ma\u001b[0m \u001b[1;32min\u001b[0m \u001b[0mAdd\u001b[0m\u001b[1;33m.\u001b[0m\u001b[0mmake_args\u001b[0m\u001b[1;33m(\u001b[0m\u001b[0mp\u001b[0m\u001b[1;33m)\u001b[0m\u001b[1;33m]\u001b[0m\u001b[1;33m\u001b[0m\u001b[1;33m\u001b[0m\u001b[0m\n\u001b[0m\u001b[0;32m   1250\u001b[0m             \u001b[1;31m# get a common negative (if there) which gcd_terms does not remove\u001b[0m\u001b[1;33m\u001b[0m\u001b[1;33m\u001b[0m\u001b[0m\n\u001b[0;32m   1251\u001b[0m             if all(a.as_coeff_Mul()[0].extract_multiplicatively(-1) is not None\n",
      "\u001b[1;32md:\\python\\python39\\lib\\site-packages\\sympy\\core\\exprtools.py\u001b[0m in \u001b[0;36mdo\u001b[1;34m(expr)\u001b[0m\n\u001b[0;32m   1268\u001b[0m         \u001b[1;32melif\u001b[0m \u001b[0mp\u001b[0m\u001b[1;33m.\u001b[0m\u001b[0margs\u001b[0m\u001b[1;33m:\u001b[0m\u001b[1;33m\u001b[0m\u001b[1;33m\u001b[0m\u001b[0m\n\u001b[0;32m   1269\u001b[0m             p = p.func(\n\u001b[1;32m-> 1270\u001b[1;33m                 *[do(a) for a in p.args])\n\u001b[0m\u001b[0;32m   1271\u001b[0m         \u001b[0mrv\u001b[0m \u001b[1;33m=\u001b[0m \u001b[0m_keep_coeff\u001b[0m\u001b[1;33m(\u001b[0m\u001b[0mcont\u001b[0m\u001b[1;33m,\u001b[0m \u001b[0mp\u001b[0m\u001b[1;33m,\u001b[0m \u001b[0mclear\u001b[0m\u001b[1;33m=\u001b[0m\u001b[0mclear\u001b[0m\u001b[1;33m,\u001b[0m \u001b[0msign\u001b[0m\u001b[1;33m=\u001b[0m\u001b[0msign\u001b[0m\u001b[1;33m)\u001b[0m\u001b[1;33m\u001b[0m\u001b[1;33m\u001b[0m\u001b[0m\n\u001b[0;32m   1272\u001b[0m         \u001b[1;32mreturn\u001b[0m \u001b[0mrv\u001b[0m\u001b[1;33m\u001b[0m\u001b[1;33m\u001b[0m\u001b[0m\n",
      "\u001b[1;32md:\\python\\python39\\lib\\site-packages\\sympy\\core\\exprtools.py\u001b[0m in \u001b[0;36m<listcomp>\u001b[1;34m(.0)\u001b[0m\n\u001b[0;32m   1268\u001b[0m         \u001b[1;32melif\u001b[0m \u001b[0mp\u001b[0m\u001b[1;33m.\u001b[0m\u001b[0margs\u001b[0m\u001b[1;33m:\u001b[0m\u001b[1;33m\u001b[0m\u001b[1;33m\u001b[0m\u001b[0m\n\u001b[0;32m   1269\u001b[0m             p = p.func(\n\u001b[1;32m-> 1270\u001b[1;33m                 *[do(a) for a in p.args])\n\u001b[0m\u001b[0;32m   1271\u001b[0m         \u001b[0mrv\u001b[0m \u001b[1;33m=\u001b[0m \u001b[0m_keep_coeff\u001b[0m\u001b[1;33m(\u001b[0m\u001b[0mcont\u001b[0m\u001b[1;33m,\u001b[0m \u001b[0mp\u001b[0m\u001b[1;33m,\u001b[0m \u001b[0mclear\u001b[0m\u001b[1;33m=\u001b[0m\u001b[0mclear\u001b[0m\u001b[1;33m,\u001b[0m \u001b[0msign\u001b[0m\u001b[1;33m=\u001b[0m\u001b[0msign\u001b[0m\u001b[1;33m)\u001b[0m\u001b[1;33m\u001b[0m\u001b[1;33m\u001b[0m\u001b[0m\n\u001b[0;32m   1272\u001b[0m         \u001b[1;32mreturn\u001b[0m \u001b[0mrv\u001b[0m\u001b[1;33m\u001b[0m\u001b[1;33m\u001b[0m\u001b[0m\n",
      "\u001b[1;32md:\\python\\python39\\lib\\site-packages\\sympy\\core\\exprtools.py\u001b[0m in \u001b[0;36mdo\u001b[1;34m(expr)\u001b[0m\n\u001b[0;32m   1235\u001b[0m                 \u001b[0mis_iterable\u001b[0m \u001b[1;32mor\u001b[0m \u001b[1;32mnot\u001b[0m \u001b[0mhasattr\u001b[0m\u001b[1;33m(\u001b[0m\u001b[0mexpr\u001b[0m\u001b[1;33m,\u001b[0m \u001b[1;34m'args_cnc'\u001b[0m\u001b[1;33m)\u001b[0m\u001b[1;33m:\u001b[0m\u001b[1;33m\u001b[0m\u001b[1;33m\u001b[0m\u001b[0m\n\u001b[0;32m   1236\u001b[0m             \u001b[0margs\u001b[0m \u001b[1;33m=\u001b[0m \u001b[0mexpr\u001b[0m\u001b[1;33m.\u001b[0m\u001b[0margs\u001b[0m\u001b[1;33m\u001b[0m\u001b[1;33m\u001b[0m\u001b[0m\n\u001b[1;32m-> 1237\u001b[1;33m             \u001b[0mnewargs\u001b[0m \u001b[1;33m=\u001b[0m \u001b[0mtuple\u001b[0m\u001b[1;33m(\u001b[0m\u001b[1;33m[\u001b[0m\u001b[0mdo\u001b[0m\u001b[1;33m(\u001b[0m\u001b[0mi\u001b[0m\u001b[1;33m)\u001b[0m \u001b[1;32mfor\u001b[0m \u001b[0mi\u001b[0m \u001b[1;32min\u001b[0m \u001b[0margs\u001b[0m\u001b[1;33m]\u001b[0m\u001b[1;33m)\u001b[0m\u001b[1;33m\u001b[0m\u001b[1;33m\u001b[0m\u001b[0m\n\u001b[0m\u001b[0;32m   1238\u001b[0m             \u001b[1;32mif\u001b[0m \u001b[0mnewargs\u001b[0m \u001b[1;33m==\u001b[0m \u001b[0margs\u001b[0m\u001b[1;33m:\u001b[0m\u001b[1;33m\u001b[0m\u001b[1;33m\u001b[0m\u001b[0m\n\u001b[0;32m   1239\u001b[0m                 \u001b[1;32mreturn\u001b[0m \u001b[0mexpr\u001b[0m\u001b[1;33m\u001b[0m\u001b[1;33m\u001b[0m\u001b[0m\n",
      "\u001b[1;32md:\\python\\python39\\lib\\site-packages\\sympy\\core\\exprtools.py\u001b[0m in \u001b[0;36m<listcomp>\u001b[1;34m(.0)\u001b[0m\n\u001b[0;32m   1235\u001b[0m                 \u001b[0mis_iterable\u001b[0m \u001b[1;32mor\u001b[0m \u001b[1;32mnot\u001b[0m \u001b[0mhasattr\u001b[0m\u001b[1;33m(\u001b[0m\u001b[0mexpr\u001b[0m\u001b[1;33m,\u001b[0m \u001b[1;34m'args_cnc'\u001b[0m\u001b[1;33m)\u001b[0m\u001b[1;33m:\u001b[0m\u001b[1;33m\u001b[0m\u001b[1;33m\u001b[0m\u001b[0m\n\u001b[0;32m   1236\u001b[0m             \u001b[0margs\u001b[0m \u001b[1;33m=\u001b[0m \u001b[0mexpr\u001b[0m\u001b[1;33m.\u001b[0m\u001b[0margs\u001b[0m\u001b[1;33m\u001b[0m\u001b[1;33m\u001b[0m\u001b[0m\n\u001b[1;32m-> 1237\u001b[1;33m             \u001b[0mnewargs\u001b[0m \u001b[1;33m=\u001b[0m \u001b[0mtuple\u001b[0m\u001b[1;33m(\u001b[0m\u001b[1;33m[\u001b[0m\u001b[0mdo\u001b[0m\u001b[1;33m(\u001b[0m\u001b[0mi\u001b[0m\u001b[1;33m)\u001b[0m \u001b[1;32mfor\u001b[0m \u001b[0mi\u001b[0m \u001b[1;32min\u001b[0m \u001b[0margs\u001b[0m\u001b[1;33m]\u001b[0m\u001b[1;33m)\u001b[0m\u001b[1;33m\u001b[0m\u001b[1;33m\u001b[0m\u001b[0m\n\u001b[0m\u001b[0;32m   1238\u001b[0m             \u001b[1;32mif\u001b[0m \u001b[0mnewargs\u001b[0m \u001b[1;33m==\u001b[0m \u001b[0margs\u001b[0m\u001b[1;33m:\u001b[0m\u001b[1;33m\u001b[0m\u001b[1;33m\u001b[0m\u001b[0m\n\u001b[0;32m   1239\u001b[0m                 \u001b[1;32mreturn\u001b[0m \u001b[0mexpr\u001b[0m\u001b[1;33m\u001b[0m\u001b[1;33m\u001b[0m\u001b[0m\n",
      "\u001b[1;32md:\\python\\python39\\lib\\site-packages\\sympy\\core\\exprtools.py\u001b[0m in \u001b[0;36mdo\u001b[1;34m(expr)\u001b[0m\n\u001b[0;32m   1247\u001b[0m         \u001b[0mcont\u001b[0m\u001b[1;33m,\u001b[0m \u001b[0mp\u001b[0m \u001b[1;33m=\u001b[0m \u001b[0mexpr\u001b[0m\u001b[1;33m.\u001b[0m\u001b[0mas_content_primitive\u001b[0m\u001b[1;33m(\u001b[0m\u001b[0mradical\u001b[0m\u001b[1;33m=\u001b[0m\u001b[0mradical\u001b[0m\u001b[1;33m,\u001b[0m \u001b[0mclear\u001b[0m\u001b[1;33m=\u001b[0m\u001b[0mclear\u001b[0m\u001b[1;33m)\u001b[0m\u001b[1;33m\u001b[0m\u001b[1;33m\u001b[0m\u001b[0m\n\u001b[0;32m   1248\u001b[0m         \u001b[1;32mif\u001b[0m \u001b[0mp\u001b[0m\u001b[1;33m.\u001b[0m\u001b[0mis_Add\u001b[0m\u001b[1;33m:\u001b[0m\u001b[1;33m\u001b[0m\u001b[1;33m\u001b[0m\u001b[0m\n\u001b[1;32m-> 1249\u001b[1;33m             \u001b[0mlist_args\u001b[0m \u001b[1;33m=\u001b[0m \u001b[1;33m[\u001b[0m\u001b[0mdo\u001b[0m\u001b[1;33m(\u001b[0m\u001b[0ma\u001b[0m\u001b[1;33m)\u001b[0m \u001b[1;32mfor\u001b[0m \u001b[0ma\u001b[0m \u001b[1;32min\u001b[0m \u001b[0mAdd\u001b[0m\u001b[1;33m.\u001b[0m\u001b[0mmake_args\u001b[0m\u001b[1;33m(\u001b[0m\u001b[0mp\u001b[0m\u001b[1;33m)\u001b[0m\u001b[1;33m]\u001b[0m\u001b[1;33m\u001b[0m\u001b[1;33m\u001b[0m\u001b[0m\n\u001b[0m\u001b[0;32m   1250\u001b[0m             \u001b[1;31m# get a common negative (if there) which gcd_terms does not remove\u001b[0m\u001b[1;33m\u001b[0m\u001b[1;33m\u001b[0m\u001b[0m\n\u001b[0;32m   1251\u001b[0m             if all(a.as_coeff_Mul()[0].extract_multiplicatively(-1) is not None\n",
      "\u001b[1;32md:\\python\\python39\\lib\\site-packages\\sympy\\core\\exprtools.py\u001b[0m in \u001b[0;36m<listcomp>\u001b[1;34m(.0)\u001b[0m\n\u001b[0;32m   1247\u001b[0m         \u001b[0mcont\u001b[0m\u001b[1;33m,\u001b[0m \u001b[0mp\u001b[0m \u001b[1;33m=\u001b[0m \u001b[0mexpr\u001b[0m\u001b[1;33m.\u001b[0m\u001b[0mas_content_primitive\u001b[0m\u001b[1;33m(\u001b[0m\u001b[0mradical\u001b[0m\u001b[1;33m=\u001b[0m\u001b[0mradical\u001b[0m\u001b[1;33m,\u001b[0m \u001b[0mclear\u001b[0m\u001b[1;33m=\u001b[0m\u001b[0mclear\u001b[0m\u001b[1;33m)\u001b[0m\u001b[1;33m\u001b[0m\u001b[1;33m\u001b[0m\u001b[0m\n\u001b[0;32m   1248\u001b[0m         \u001b[1;32mif\u001b[0m \u001b[0mp\u001b[0m\u001b[1;33m.\u001b[0m\u001b[0mis_Add\u001b[0m\u001b[1;33m:\u001b[0m\u001b[1;33m\u001b[0m\u001b[1;33m\u001b[0m\u001b[0m\n\u001b[1;32m-> 1249\u001b[1;33m             \u001b[0mlist_args\u001b[0m \u001b[1;33m=\u001b[0m \u001b[1;33m[\u001b[0m\u001b[0mdo\u001b[0m\u001b[1;33m(\u001b[0m\u001b[0ma\u001b[0m\u001b[1;33m)\u001b[0m \u001b[1;32mfor\u001b[0m \u001b[0ma\u001b[0m \u001b[1;32min\u001b[0m \u001b[0mAdd\u001b[0m\u001b[1;33m.\u001b[0m\u001b[0mmake_args\u001b[0m\u001b[1;33m(\u001b[0m\u001b[0mp\u001b[0m\u001b[1;33m)\u001b[0m\u001b[1;33m]\u001b[0m\u001b[1;33m\u001b[0m\u001b[1;33m\u001b[0m\u001b[0m\n\u001b[0m\u001b[0;32m   1250\u001b[0m             \u001b[1;31m# get a common negative (if there) which gcd_terms does not remove\u001b[0m\u001b[1;33m\u001b[0m\u001b[1;33m\u001b[0m\u001b[0m\n\u001b[0;32m   1251\u001b[0m             if all(a.as_coeff_Mul()[0].extract_multiplicatively(-1) is not None\n",
      "\u001b[1;32md:\\python\\python39\\lib\\site-packages\\sympy\\core\\exprtools.py\u001b[0m in \u001b[0;36mdo\u001b[1;34m(expr)\u001b[0m\n\u001b[0;32m   1267\u001b[0m                 fraction=fraction).xreplace(special)\n\u001b[0;32m   1268\u001b[0m         \u001b[1;32melif\u001b[0m \u001b[0mp\u001b[0m\u001b[1;33m.\u001b[0m\u001b[0margs\u001b[0m\u001b[1;33m:\u001b[0m\u001b[1;33m\u001b[0m\u001b[1;33m\u001b[0m\u001b[0m\n\u001b[1;32m-> 1269\u001b[1;33m             p = p.func(\n\u001b[0m\u001b[0;32m   1270\u001b[0m                 *[do(a) for a in p.args])\n\u001b[0;32m   1271\u001b[0m         \u001b[0mrv\u001b[0m \u001b[1;33m=\u001b[0m \u001b[0m_keep_coeff\u001b[0m\u001b[1;33m(\u001b[0m\u001b[0mcont\u001b[0m\u001b[1;33m,\u001b[0m \u001b[0mp\u001b[0m\u001b[1;33m,\u001b[0m \u001b[0mclear\u001b[0m\u001b[1;33m=\u001b[0m\u001b[0mclear\u001b[0m\u001b[1;33m,\u001b[0m \u001b[0msign\u001b[0m\u001b[1;33m=\u001b[0m\u001b[0msign\u001b[0m\u001b[1;33m)\u001b[0m\u001b[1;33m\u001b[0m\u001b[1;33m\u001b[0m\u001b[0m\n",
      "\u001b[1;31mKeyboardInterrupt\u001b[0m: "
     ]
    }
   ],
   "source": [
    "# Inversão da Matriz Jacobiana\n",
    "J_inv = J_subs.inv()"
   ]
  },
  {
   "cell_type": "code",
   "execution_count": null,
   "metadata": {},
   "outputs": [],
   "source": [
    "# Declaração das Matrizes dos Eixos e de Erro\n",
    "G = sym.Matrix([sym_Tx-Tx, sym_Ty-Ty, sym_Tz-Tz, sym_Rx-Rx, sym_Ry-Ry, sym_Rz-Rz])\n",
    "e = np.array([[0],[0],[0],[0],[0],[0]])"
   ]
  },
  {
   "cell_type": "code",
   "execution_count": null,
   "metadata": {},
   "outputs": [],
   "source": [
    "# Iteração do método\n",
    "for i in range(5):\n",
    "    J_evaluated = sym.N(J_inv.subs([(sym_M1,e[0][0]), (sym_M2,e[1][0]), (sym_M3,e[2][0]), (sym_M4,e[3][0]), (sym_M5,e[4][0]), (sym_M6,e[5][0])]))\n",
    "    G_evaluated = sym.N(G.subs([(sym_M1,e[0][0]), (sym_M2,e[1][0]), (sym_M3,e[2][0]), (sym_M4,e[3][0]), (sym_M5,e[4][0]), (sym_M6,e[5][0])]))\n",
    "    print(\"Evaluated\", i, \"OK\")\n",
    "    e = np.array(e + J_evaluated*G_evaluated)\n",
    "    print(\"Iteration\", i, \"OK\")\n",
    "\n",
    "# Associação dos resultados às variáveis dos motores\n",
    "M1 = e[0][0]\n",
    "M2 = e[1][0]\n",
    "M3 = e[2][0]\n",
    "M4 = e[3][0]\n",
    "M5 = e[4][0]\n",
    "M6 = e[5][0]"
   ]
  },
  {
   "cell_type": "markdown",
   "metadata": {},
   "source": [
    "### 3.3 Print da Cinemática Inversa para o CLP (Linguagem ST)"
   ]
  },
  {
   "cell_type": "code",
   "execution_count": null,
   "metadata": {},
   "outputs": [],
   "source": [
    "print('M1 := ' + (str(M1) + ';\\n').upper())\n",
    "print('M2 := ' + (str(M2) + ';\\n').upper())\n",
    "print('M3 := ' + (str(M3) + ';\\n').upper())\n",
    "print('M4 := ' + (str(M4) + ';\\n').upper())\n",
    "print('M5 := ' + (str(M5) + ';\\n').upper())\n",
    "print('M6 := ' + (str(M6) + ';'  ).upper())"
   ]
  },
  {
   "cell_type": "markdown",
   "metadata": {},
   "source": [
    "### 3.4 Simulação de Funcionamento da Cinemática Inversa"
   ]
  },
  {
   "cell_type": "code",
   "execution_count": null,
   "metadata": {},
   "outputs": [],
   "source": [
    "# Posições dos eixos coordenados (mm ou graus) para a simulação\n",
    "inv_Tx = 0\n",
    "inv_Ty = 0\n",
    "inv_Tz = 0\n",
    "inv_Rx = 0\n",
    "inv_Ry = 0\n",
    "inv_Rz = 0\n",
    "\n",
    "# Valores de offset para a simulação\n",
    "off_Tx = 0\n",
    "off_Ty = 5\n",
    "off_Tz = 2\n",
    "off_Rx = 0\n",
    "off_Ry = 0\n",
    "off_Rz = 0\n",
    "\n",
    "# Conversão para radianos para uso na simulação\n",
    "inv_Rx = mpmath.radians(inv_Rx)\n",
    "inv_Ry = mpmath.radians(inv_Ry)\n",
    "inv_Rz = mpmath.radians(inv_Rz)\n",
    "\n",
    "# Listas das equações e resultados\n",
    "inverses = [M1, M2, M3, M4, M5, M6]\n",
    "results_inv = [0, 0, 0, 0, 0, 0]\n",
    "\n",
    "# Execução da simulação\n",
    "for i in range(5):\n",
    "    results_inv[i] = sym.N(inverses[i].subs([(Tx,inv_Tx),(Ty,inv_Ty),(Tz,inv_Tz),(Rx,inv_Rx),(Ry,inv_Ry),(Rz,inv_Rz),(sym_d1,d1),(sym_d2,d2),(sym_d3,d3),(sym_d4,d4),(sym_d5,d5),(sym_d6,d6),(sym_d7,d7),(sym_off_Tx,off_Tx),(sym_off_Ty,off_Ty),(sym_off_Tz,off_Tz),(sym_off_Rx,off_Rx),(sym_off_Ry,off_Ry),(sym_off_Rz,off_Rz)]))\n",
    "\n",
    "# Print das rotações calculadas para os motores\n",
    "print('M1: %.2f' % (mpmath.degrees(inverses[0])))\n",
    "print('M2: %.2f' % (mpmath.degrees(inverses[1])))\n",
    "print('M3: %.2f' % (mpmath.degrees(inverses[2])))\n",
    "print('M4: %.2f' % (mpmath.degrees(inverses[3])))\n",
    "print('M5: %.2f' % (mpmath.degrees(inverses[4])))\n",
    "print('M6: %.2f' % (mpmath.degrees(inverses[5])))"
   ]
  },
  {
   "cell_type": "code",
   "execution_count": null,
   "metadata": {},
   "outputs": [],
   "source": []
  }
 ],
 "metadata": {
  "interpreter": {
   "hash": "4ce0e62306dd6a5716965d4519ada776f947e6dfc145b604b11307c10277ef29"
  },
  "kernelspec": {
   "display_name": "Python 3",
   "language": "python",
   "name": "python3"
  },
  "language_info": {
   "codemirror_mode": {
    "name": "ipython",
    "version": 3
   },
   "file_extension": ".py",
   "mimetype": "text/x-python",
   "name": "python",
   "nbconvert_exporter": "python",
   "pygments_lexer": "ipython3",
   "version": "3.9.7"
  },
  "toc": {
   "base_numbering": 1,
   "nav_menu": {},
   "number_sections": true,
   "sideBar": true,
   "skip_h1_title": false,
   "title_cell": "Table of Contents",
   "title_sidebar": "Contents",
   "toc_cell": false,
   "toc_position": {},
   "toc_section_display": true,
   "toc_window_display": false
  }
 },
 "nbformat": 4,
 "nbformat_minor": 2
}
