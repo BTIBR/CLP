{
 "cells": [
  {
   "cell_type": "markdown",
   "metadata": {},
   "source": [
    "# Cinemática Braço Robtótico Leticya\n",
    "\n",
    "### Bancada de Testes de Pré-Carga de Fusos de Esfera Integrada com Braço Robótico\n",
    "\n",
    "### Referências\n",
    "- https://www.youtube.com/watch?v=4WRhVqQaZTE\n",
    "- https://robotics.stackexchange.com/questions/8516/getting-pitch-yaw-and-roll-from-rotation-matrix-in-dh-parameter\n",
    "- https://automaticaddison.com/how-to-assign-denavit-hartenberg-frames-to-robotic-arms/\n",
    "- https://d3cw3dd2w32x2b.cloudfront.net/wp-content/uploads/2012/07/euler-angles1.pdf\n",
    "\n",
    "# 1.0 Bibliotecas e Funções"
   ]
  },
  {
   "cell_type": "code",
   "execution_count": 1,
   "metadata": {},
   "outputs": [],
   "source": [
    "import mpmath\n",
    "import numpy as np\n",
    "import sympy as sym\n",
    "\n",
    "def Rot_x(Rx):\n",
    "    return sym.Matrix([\n",
    "                      [1, 0,           0,            0],\n",
    "                      [0, sym.cos(Rx), -sym.sin(Rx), 0],\n",
    "                      [0, sym.sin(Rx), sym.cos(Rx),  0],\n",
    "                      [0, 0,           0,            1]  \n",
    "                      ])\n",
    "\n",
    "def Rot_y(Ry):\n",
    "    return sym.Matrix([\n",
    "                      [sym.cos(Ry),  0, sym.sin(Ry), 0],\n",
    "                      [0,            1, 0,           0],\n",
    "                      [-sym.sin(Ry), 0, sym.cos(Ry), 0],\n",
    "                      [0,            0, 0,           1]  \n",
    "                      ])\n",
    "\n",
    "def Rot_z(Rz):\n",
    "    return sym.Matrix([\n",
    "                      [sym.cos(Rz), -sym.sin(Rz), 0, 0],\n",
    "                      [sym.sin(Rz), sym.cos(Rz),  0, 0],\n",
    "                      [0,           0,            1, 0],\n",
    "                      [0,           0,            0, 1]\n",
    "                      ])\n",
    "\n",
    "def Transl_x(Tx):\n",
    "    return sym.Matrix([\n",
    "                      [1, 0, 0, Tx],\n",
    "                      [0, 1, 0, 0],\n",
    "                      [0, 0, 1, 0],\n",
    "                      [0, 0, 0, 1]\n",
    "                      ])\n",
    "\n",
    "def Transl_y(Ty):\n",
    "    return sym.Matrix([\n",
    "                      [1, 0, 0, 0 ],\n",
    "                      [0, 1, 0, Ty],\n",
    "                      [0, 0, 1, 0 ],\n",
    "                      [0, 0, 0, 1 ]\n",
    "                      ])\n",
    "\n",
    "def Transl_z(Tz):\n",
    "    return sym.Matrix([\n",
    "                      [1, 0, 0, 0 ],\n",
    "                      [0, 1, 0, 0 ],\n",
    "                      [0, 0, 1, Tz],\n",
    "                      [0, 0, 0, 1 ] \n",
    "                      ])"
   ]
  },
  {
   "cell_type": "markdown",
   "metadata": {},
   "source": [
    "# 2.0 Cinemática direta\n",
    "\n",
    "### 2.1 Configuração do Robô"
   ]
  },
  {
   "cell_type": "code",
   "execution_count": 2,
   "metadata": {},
   "outputs": [],
   "source": [
    "# Distâncias entre os eixos\n",
    "d1 = 1\n",
    "d2 = 1\n",
    "d3 = 1\n",
    "d4 = 1\n",
    "d5 = 1\n",
    "d6 = 1\n",
    "d7 = 1"
   ]
  },
  {
   "cell_type": "markdown",
   "metadata": {},
   "source": [
    "### 2.2 Simbologias para cálculo"
   ]
  },
  {
   "cell_type": "code",
   "execution_count": 3,
   "metadata": {},
   "outputs": [],
   "source": [
    "# Variáveis de distância\n",
    "sym_d1 = sym.Symbol('d1')\n",
    "sym_d2 = sym.Symbol('d2')\n",
    "sym_d3 = sym.Symbol('d3')\n",
    "sym_d4 = sym.Symbol('d4')\n",
    "sym_d5 = sym.Symbol('d5')\n",
    "sym_d6 = sym.Symbol('d6')\n",
    "sym_d7 = sym.Symbol('d7')\n",
    "\n",
    "# Variáveis de offset\n",
    "sym_off_Tx = sym.Symbol('OFFSET_Tx')\n",
    "sym_off_Ty = sym.Symbol('OFFSET_Ty')\n",
    "sym_off_Tz = sym.Symbol('OFFSET_Tz')\n",
    "sym_off_Rx = sym.Symbol('OFFSET_Rx')\n",
    "sym_off_Ry = sym.Symbol('OFFSET_Ry')\n",
    "sym_off_Rz = sym.Symbol('OFFSET_Rz')\n",
    "\n",
    "# Rotações atuais dos motores\n",
    "sym_M1 = sym.Symbol('M1')\n",
    "sym_M2 = sym.Symbol('M2')\n",
    "sym_M3 = sym.Symbol('M3')\n",
    "sym_M4 = sym.Symbol('M4')\n",
    "sym_M5 = sym.Symbol('M5')\n",
    "sym_M6 = sym.Symbol('M6')\n",
    "\n",
    "# Eixos interpolados finais\n",
    "sym_Tx = sym.Symbol('Tx')\n",
    "sym_Ty = sym.Symbol('Ty')\n",
    "sym_Tz = sym.Symbol('Tz')\n",
    "sym_Rx = sym.Symbol('Rx')\n",
    "sym_Ry = sym.Symbol('Ry')\n",
    "sym_Rz = sym.Symbol('Rz')"
   ]
  },
  {
   "cell_type": "markdown",
   "metadata": {},
   "source": [
    "### 2.3 Matrizes de rotação e translação homogêneas"
   ]
  },
  {
   "cell_type": "code",
   "execution_count": 4,
   "metadata": {},
   "outputs": [],
   "source": [
    "# Transformações dos sistemas de coordenadas da base (Sistema Inercial) até o ponto de pivotamento (Garra)\n",
    "Toff = Rot_x(-sym_off_Rx) * Rot_y(-sym_off_Ry) * Rot_z(-sym_off_Rz) * Transl_x(-sym_off_Tx) * Transl_y(-sym_off_Ty) * Transl_z(-sym_off_Tz)\n",
    "T12 = Rot_z(sym_M1) * Transl_z(sym_d1)\n",
    "T23 = Rot_x(sym_M2) * Transl_y(sym_d2)\n",
    "T34 = Rot_x(sym_M3) * Transl_y(sym_d3)\n",
    "T45 = Rot_y(sym_M4) * Transl_y(sym_d4)\n",
    "T56 = Rot_x(sym_M5) * Transl_y(sym_d5)\n",
    "T67 = Rot_z(sym_M6) * Transl_z(sym_d6) * Transl_y(sym_d7)\n",
    "\n",
    "# Matriz final\n",
    "T = sym.simplify(Toff*T12*T23*T34*T45*T56*T67)"
   ]
  },
  {
   "cell_type": "markdown",
   "metadata": {},
   "source": [
    "### 2.4 Extração das equações da Cinemática Direta"
   ]
  },
  {
   "cell_type": "code",
   "execution_count": 5,
   "metadata": {},
   "outputs": [],
   "source": [
    "# Cálculo da referência da ponta da Garra ao ponto Zero para extrair as translações\n",
    "XYZ = T*sym.Matrix([[0], [0], [0], [1]])\n",
    "X = sym.simplify(XYZ[0])\n",
    "Y = sym.simplify(XYZ[1])\n",
    "Z = sym.simplify(XYZ[2])\n",
    "\n",
    "# Criação das equações simbólicas das translações\n",
    "equations = [X-sym_Tx, Y-sym_Ty, Z-sym_Tz]"
   ]
  },
  {
   "cell_type": "code",
   "execution_count": 6,
   "metadata": {},
   "outputs": [],
   "source": [
    "# Solução das equações de translação\n",
    "Tx = sym.simplify(sym.solve(equations[0], sym_Tx)[0])\n",
    "Ty = sym.simplify(sym.solve(equations[1], sym_Ty)[0])\n",
    "Tz = sym.simplify(sym.solve(equations[2], sym_Tz)[0])"
   ]
  },
  {
   "cell_type": "code",
   "execution_count": null,
   "metadata": {},
   "outputs": [],
   "source": [
    "# Declaração de alguns índices da Matriz T para encontrar as equações de rotação\n",
    "T00 = T[0,0]\n",
    "T01 = T[0,1]\n",
    "T02 = T[0,2]\n",
    "T10 = T[1,0]\n",
    "T11 = T[1,1]\n",
    "T12 = T[1,2]\n",
    "T20 = T[2,0]\n",
    "T21 = T[2,1]\n",
    "T22 = T[2,2]\n",
    "\n",
    "# Solução das equações de rotação\n",
    "Rx = sym.simplify(-sym.atan2(T12, T22))\n",
    "Ry = sym.simplify(-sym.atan2(-T02, sym.sqrt((T00**2)+(T01**2))))\n",
    "Rz = sym.simplify(-sym.atan2(sym.sin(-Rx)*T20-sym.cos(-Rx)*T10, sym.cos(-Rx)*T11-sym.sin(-Rx)*T21))"
   ]
  },
  {
   "cell_type": "markdown",
   "metadata": {},
   "source": [
    "### 2.5 Print da Cinemática Direta para o CLP (Linguagem ST)"
   ]
  },
  {
   "cell_type": "code",
   "execution_count": null,
   "metadata": {},
   "outputs": [],
   "source": [
    "print('Tx := ' + (str(Tx) + ';\\n').upper().replace('D', 'd'))\n",
    "print('Ty := ' + (str(Ty) + ';\\n').upper().replace('D', 'd'))\n",
    "print('Tz := ' + (str(Tz) + ';\\n').upper().replace('D', 'd'))\n",
    "print('Rx := ' + (str(Rx) + ';\\n').upper().replace('D', 'd'))\n",
    "print('Ry := ' + (str(Ry) + ';\\n').upper().replace('D', 'd'))\n",
    "print('Rz := ' + (str(Rz) + ';'  ).upper().replace('D', 'd'))"
   ]
  },
  {
   "cell_type": "markdown",
   "metadata": {},
   "source": [
    "### 2.6 Simulação de Funcionamento da Cinemática Direta"
   ]
  },
  {
   "cell_type": "code",
   "execution_count": null,
   "metadata": {
    "scrolled": true
   },
   "outputs": [],
   "source": [
    "# Posições dos motores (em graus) para a simulação\n",
    "m1 = 0\n",
    "m2 = 0\n",
    "m3 = 0\n",
    "m4 = 0\n",
    "m5 = 0\n",
    "m6 = 0\n",
    "\n",
    "# Valores de offset para a simulação\n",
    "off_Tx = 0\n",
    "off_Ty = 5\n",
    "off_Tz = 2\n",
    "off_Rx = 0\n",
    "off_Ry = 0\n",
    "off_Rz = 0\n",
    "\n",
    "# Conversão para radianos para uso na simulação\n",
    "m1_rad = mpmath.radians(m1)\n",
    "m2_rad = mpmath.radians(m2)\n",
    "m3_rad = mpmath.radians(m3)\n",
    "m4_rad = mpmath.radians(m4)\n",
    "m5_rad = mpmath.radians(m5)\n",
    "m6_rad = mpmath.radians(m6)\n",
    "\n",
    "# Listas dos eixos e equações\n",
    "forwards = [Tx, Ty, Tz, Rx, Ry, Rz]\n",
    "results = [0, 0, 0, 0, 0, 0]\n",
    "\n",
    "# Execução dos cálculos\n",
    "for i in range(5):\n",
    "    results[i] = sym.N(forwards[i].subs([(sym_M1, m1_rad), (sym_M2, m2_rad), (sym_M3, m3_rad), (sym_M4, m4_rad), (sym_M5, m5_rad), (sym_M6, m6_rad), (sym_d1, d1), (sym_d2, d2), (sym_d3, d3), (sym_d4, d4), (sym_d5, d5), (sym_d6, d6), (sym_d7, d7), (sym_off_Tx, off_Tx), (sym_off_Ty, off_Ty), (sym_off_Tz, off_Tz), (sym_off_Rx, off_Rx), (sym_off_Ry, off_Ry), (sym_off_Rz, off_Rz)]))\n",
    "\n",
    "# Print das translações calculadas\n",
    "print('Tx: %.2f' % (results[0]))\n",
    "print('Ty: %.2f' % (results[1]))\n",
    "print('Tz: %.2f' % (results[2]))\n",
    "print('Rx: %.2f' % (mpmath.degrees(results[3])))\n",
    "print('Ry: %.2f' % (mpmath.degrees(results[4])))\n",
    "print('Rz: %.2f' % (mpmath.degrees(results[5])))"
   ]
  },
  {
   "cell_type": "markdown",
   "metadata": {},
   "source": [
    "# 3.0 Cinemática Inversa\n",
    "\n",
    "### 3.1 Matriz Jacobiana"
   ]
  },
  {
   "cell_type": "code",
   "execution_count": null,
   "metadata": {},
   "outputs": [],
   "source": [
    "equations = sym.Matrix([X, Y, Z, Rx, Ry, Rz])\n",
    "motors = sym.Matrix([sym_M1, sym_M2, sym_M3, sym_M4, sym_M5, sym_M6])"
   ]
  },
  {
   "cell_type": "code",
   "execution_count": null,
   "metadata": {},
   "outputs": [],
   "source": [
    "J = equations.jacobian(motors)\n",
    "J = J**-1"
   ]
  },
  {
   "cell_type": "markdown",
   "metadata": {},
   "source": [
    "### 3.2 Iteração pelo método de Newton-Raphson para aproximação das equações de Cinemática Inversa"
   ]
  },
  {
   "cell_type": "code",
   "execution_count": null,
   "metadata": {},
   "outputs": [],
   "source": [
    "G = sym.Matrix([sym_Tx-X, sym_Ty-Y, sym_Tz-Z, sym_Rx-Rx, sym_Ry-Ry, sym_Rz-Rz])\n",
    "e = np.array([[0],[0],[0],[0],[0],[0]])"
   ]
  },
  {
   "cell_type": "code",
   "execution_count": null,
   "metadata": {},
   "outputs": [],
   "source": [
    "for i in range(5):\n",
    "    J_evaluated = sym.N(J.subs([(sym_M1,e[0][0]), (sym_M2,e[1][0]), (sym_M3,e[2][0]), (sym_M4,e[3][0]), (sym_M5,e[4][0]), (sym_M6,e[5][0])]))\n",
    "    G_evaluated = sym.N(G.subs([(sym_M1,e[0][0]), (sym_M2,e[1][0]), (sym_M3,e[2][0]), (sym_M4,e[3][0]), (sym_M5,e[4][0]), (sym_M6,e[5][0])]))\n",
    "    e = np.array(e + J_evaluated*G_evaluated)\n",
    "    print(i)"
   ]
  },
  {
   "cell_type": "markdown",
   "metadata": {},
   "source": [
    "### 3.3 Print da Cinemática Direta para o CLP (Linguagem ST)"
   ]
  },
  {
   "cell_type": "code",
   "execution_count": null,
   "metadata": {},
   "outputs": [],
   "source": [
    "print('M1 := ' + (str(e[0][0]) + ';\\n').upper())\n",
    "print('M2 := ' + (str(e[1][0]) + ';\\n').upper())\n",
    "print('M3 := ' + (str(e[2][0]) + ';\\n').upper())\n",
    "print('M4 := ' + (str(e[3][0]) + ';\\n').upper())\n",
    "print('M5 := ' + (str(e[4][0]) + ';\\n').upper())\n",
    "print('M6 := ' + (str(e[5][0]) + ';'  ).upper())"
   ]
  },
  {
   "cell_type": "markdown",
   "metadata": {},
   "source": [
    "### 3.4 Simulação de Funcionamento da Cinemática Inversa"
   ]
  },
  {
   "cell_type": "code",
   "execution_count": null,
   "metadata": {},
   "outputs": [],
   "source": [
    "# Setpoint dos eixos coordenados\n",
    "inv_Tx = 0\n",
    "inv_Ty = 0\n",
    "inv_Tz = 0\n",
    "inv_Rx = 0\n",
    "inv_Ry = 0\n",
    "inv_Rz = 0\n",
    "\n",
    "# Conversão para radianos para uso na simulação\n",
    "Rx_rad = mpmath.radians(inv_Rx)\n",
    "Ry_rad = mpmath.radians(inv_Ry)\n",
    "Rz_rad = mpmath.radians(inv_Rz)\n",
    "\n",
    "# Execução dos cálculos\n",
    "inverse_M1 = sym.N(e[0][0].subs([(Tx, inv_Tx), (Ty, inv_Ty), (Tz, inv_Tz), (Rx, inv_Rx), (Ry, inv_Ry), (Rz, inv_Rz), (sym_d1, d1), (sym_d2, d2), (sym_d3, d3), (sym_d4, d4), (sym_d5, d5), (sym_d6, d6), (sym_d7, d7)]))\n",
    "inverse_M2 = sym.N(e[1][0].subs([(Tx, inv_Tx), (Ty, inv_Ty), (Tz, inv_Tz), (Rx, inv_Rx), (Ry, inv_Ry), (Rz, inv_Rz), (sym_d1, d1), (sym_d2, d2), (sym_d3, d3), (sym_d4, d4), (sym_d5, d5), (sym_d6, d6), (sym_d7, d7)]))\n",
    "inverse_M3 = sym.N(e[2][0].subs([(Tx, inv_Tx), (Ty, inv_Ty), (Tz, inv_Tz), (Rx, inv_Rx), (Ry, inv_Ry), (Rz, inv_Rz), (sym_d1, d1), (sym_d2, d2), (sym_d3, d3), (sym_d4, d4), (sym_d5, d5), (sym_d6, d6), (sym_d7, d7)]))\n",
    "inverse_M4 = sym.N(e[3][0].subs([(Tx, inv_Tx), (Ty, inv_Ty), (Tz, inv_Tz), (Rx, inv_Rx), (Ry, inv_Ry), (Rz, inv_Rz), (sym_d1, d1), (sym_d2, d2), (sym_d3, d3), (sym_d4, d4), (sym_d5, d5), (sym_d6, d6), (sym_d7, d7)]))\n",
    "inverse_M5 = sym.N(e[4][0].subs([(Tx, inv_Tx), (Ty, inv_Ty), (Tz, inv_Tz), (Rx, inv_Rx), (Ry, inv_Ry), (Rz, inv_Rz), (sym_d1, d1), (sym_d2, d2), (sym_d3, d3), (sym_d4, d4), (sym_d5, d5), (sym_d6, d6), (sym_d7, d7)]))\n",
    "inverse_M6 = sym.N(e[5][0].subs([(Tx, inv_Tx), (Ty, inv_Ty), (Tz, inv_Tz), (Rx, inv_Rx), (Ry, inv_Ry), (Rz, inv_Rz), (sym_d1, d1), (sym_d2, d2), (sym_d3, d3), (sym_d4, d4), (sym_d5, d5), (sym_d6, d6), (sym_d7, d7)]))\n",
    "\n",
    "# Print das rotações calculadas para os motores\n",
    "print('M1: %.2f' % (mpmath.degrees(inverse_M1)))\n",
    "print('M2: %.2f' % (mpmath.degrees(inverse_M2)))\n",
    "print('M3: %.2f' % (mpmath.degrees(inverse_M3)))\n",
    "print('M4: %.2f' % (mpmath.degrees(inverse_M4)))\n",
    "print('M5: %.2f' % (mpmath.degrees(inverse_M5)))\n",
    "print('M6: %.2f' % (mpmath.degrees(inverse_M6)))"
   ]
  }
 ],
 "metadata": {
  "kernelspec": {
   "display_name": "Python 3",
   "language": "python",
   "name": "python3"
  },
  "language_info": {
   "codemirror_mode": {
    "name": "ipython",
    "version": 3
   },
   "file_extension": ".py",
   "mimetype": "text/x-python",
   "name": "python",
   "nbconvert_exporter": "python",
   "pygments_lexer": "ipython3",
   "version": "3.9.2"
  },
  "toc": {
   "base_numbering": 1,
   "nav_menu": {},
   "number_sections": true,
   "sideBar": true,
   "skip_h1_title": false,
   "title_cell": "Table of Contents",
   "title_sidebar": "Contents",
   "toc_cell": false,
   "toc_position": {},
   "toc_section_display": true,
   "toc_window_display": false
  }
 },
 "nbformat": 4,
 "nbformat_minor": 2
}
